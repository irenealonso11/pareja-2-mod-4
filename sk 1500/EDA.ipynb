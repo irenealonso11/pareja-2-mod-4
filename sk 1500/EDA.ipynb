{
 "cells": [
  {
   "cell_type": "code",
   "execution_count": 138,
   "metadata": {},
   "outputs": [],
   "source": [
    "import pandas as pd\n",
    "import numpy as np\n",
    "pd.set_option('display.max_colwidth', None)"
   ]
  },
  {
   "cell_type": "code",
   "execution_count": 71,
   "metadata": {},
   "outputs": [
    {
     "data": {
      "text/html": [
       "<div>\n",
       "<style scoped>\n",
       "    .dataframe tbody tr th:only-of-type {\n",
       "        vertical-align: middle;\n",
       "    }\n",
       "\n",
       "    .dataframe tbody tr th {\n",
       "        vertical-align: top;\n",
       "    }\n",
       "\n",
       "    .dataframe thead th {\n",
       "        text-align: right;\n",
       "    }\n",
       "</style>\n",
       "<table border=\"1\" class=\"dataframe\">\n",
       "  <thead>\n",
       "    <tr style=\"text-align: right;\">\n",
       "      <th></th>\n",
       "      <th>Name</th>\n",
       "      <th>Country</th>\n",
       "      <th>Years active</th>\n",
       "      <th>Proven victims</th>\n",
       "      <th>Possible victims</th>\n",
       "      <th>Notes</th>\n",
       "    </tr>\n",
       "  </thead>\n",
       "  <tbody>\n",
       "    <tr>\n",
       "      <th>0</th>\n",
       "      <td>Luis Garavito</td>\n",
       "      <td>Colombia  Ecuador[3]  Venezuela[3]</td>\n",
       "      <td>1992–1999[3]</td>\n",
       "      <td>193</td>\n",
       "      <td>193–300+</td>\n",
       "      <td>Child-murderer, torture-killer, and rapist known as \"La Bestia\" (\"The Beast\"). Garavito confessed to killing 140 boys between six and sixteen years old, from October 1992 to April 1999 in Colombia and neighboring countries.[3] He is suspected of murdering over 300 victims, mostly street children. Garavito was originally sentenced to 1,853 years in prison, but this was later reduced to 22 years, after he led police to many of the bodies of his victims.[4][5] He is scheduled to become eligible for parole in 2023.[6]</td>\n",
       "    </tr>\n",
       "    <tr>\n",
       "      <th>1</th>\n",
       "      <td>Pedro López</td>\n",
       "      <td>Colombia  Peru  Ecuador</td>\n",
       "      <td>1969–1980</td>\n",
       "      <td>110</td>\n",
       "      <td>300+</td>\n",
       "      <td>Child-murderer and rapist, known as \"The Monster of the Andes\". López targeted young girls, between the ages of eight and twelve. Arrested in 1980 and convicted in 1983 of killing three young girls, but claimed to have killed hundreds. Despite being believed to be one of the most prolific serial killers of the twentieth century, he was released in the late 1990s.[7]</td>\n",
       "    </tr>\n",
       "    <tr>\n",
       "      <th>2</th>\n",
       "      <td>Javed Iqbal</td>\n",
       "      <td>Pakistan</td>\n",
       "      <td>1998–1999</td>\n",
       "      <td>100</td>\n",
       "      <td>100</td>\n",
       "      <td>Child-murderer and rapist, known as \"Kukri\", Iqbal murdered exactly 100 street children by strangling them and covering up his crimes by dissolving the bodies with acid. He was arrested in December 1999 after sending a letter to a newspaper, and was set to be executed in the manner described by the judge who stated, \"You will be strangled to death in front of the parents whose children you killed, Your body will then be cut into 100 pieces and put in acid, the same way you killed the children.\"[8] However, he died in custody before he could be executed.[9]</td>\n",
       "    </tr>\n",
       "    <tr>\n",
       "      <th>3</th>\n",
       "      <td>Mikhail Popkov</td>\n",
       "      <td>Russia</td>\n",
       "      <td>1992–2010</td>\n",
       "      <td>78</td>\n",
       "      <td>83+</td>\n",
       "      <td>Serial rapist-killer nicknamed \"The Werewolf\", who was active for two decades in Angarsk, Irkutsk and Vladivostok. After being convicted of 22 murders in 2015, he confessed to an additional 59 murders, of which he was convicted of 56 in 2018.[10][11] In July 2020, Popkov confessed to more killings, bringing the total number of admitted victims to 83.[12] He was sentenced to life.</td>\n",
       "    </tr>\n",
       "    <tr>\n",
       "      <th>4</th>\n",
       "      <td>Daniel Camargo Barbosa</td>\n",
       "      <td>Colombia  Ecuador  Brazil (alleged)[13]</td>\n",
       "      <td>1974–1986</td>\n",
       "      <td>72</td>\n",
       "      <td>180[13]</td>\n",
       "      <td>Child and woman murderer, believed to have possibly raped and killed over 150 victims, primarily targeting female children, as they were more likely to be virgins. Confessed to killing 72 victims. He strangled young girls in Colombia and was arrested, but he escaped from prison, and started killing in Ecuador. He was rearrested in 1986, and was allegedly incarcerated in the same Ecuadorian prison as 300+ serial killer Pedro López.[citation needed] Camargo was killed in jail by the nephew of one of his victims.[13][14]</td>\n",
       "    </tr>\n",
       "    <tr>\n",
       "      <th>...</th>\n",
       "      <td>...</td>\n",
       "      <td>...</td>\n",
       "      <td>...</td>\n",
       "      <td>...</td>\n",
       "      <td>...</td>\n",
       "      <td>...</td>\n",
       "    </tr>\n",
       "    <tr>\n",
       "      <th>1526</th>\n",
       "      <td>Unknown</td>\n",
       "      <td>United States</td>\n",
       "      <td>2021–2022</td>\n",
       "      <td>2</td>\n",
       "      <td>4</td>\n",
       "      <td>Shootings of four Muslim men in Albuquerque, New Mexico. A Muslim man was arrested and charged with two of the murders.</td>\n",
       "    </tr>\n",
       "    <tr>\n",
       "      <th>1527</th>\n",
       "      <td>Unknown</td>\n",
       "      <td>Canada</td>\n",
       "      <td>1970–present</td>\n",
       "      <td>80</td>\n",
       "      <td>80+</td>\n",
       "      <td>A corridor of Highway 16 where, since 1970, at least eighty girls and women, primarily indigenous, have gone missing or been murdered.</td>\n",
       "    </tr>\n",
       "    <tr>\n",
       "      <th>1528</th>\n",
       "      <td>Unknown</td>\n",
       "      <td>Mexico</td>\n",
       "      <td>2020–present</td>\n",
       "      <td>71</td>\n",
       "      <td>86–200+</td>\n",
       "      <td>A 13-mile stretch of Federal Highway 86 where, since 2020, at least seventy-one men, women, and children have disappeared or been murdered. The eighteen survivors said that they were abducted by armed men and tortured. It's suspected that cartels are responsible for many of the murders, but there is also a possibility that lone criminals are responsible for some of them.</td>\n",
       "    </tr>\n",
       "    <tr>\n",
       "      <th>1529</th>\n",
       "      <td>Unknown</td>\n",
       "      <td>Canada</td>\n",
       "      <td>2022</td>\n",
       "      <td>4</td>\n",
       "      <td>4</td>\n",
       "      <td>Four indigenous women were murdered in Winnipeg in May 2022. The suspect was charged on the same month for the murder of one of the women, and accused six months later for killing the other three.</td>\n",
       "    </tr>\n",
       "    <tr>\n",
       "      <th>1530</th>\n",
       "      <td>Unknown</td>\n",
       "      <td>Italy</td>\n",
       "      <td>2022</td>\n",
       "      <td>0</td>\n",
       "      <td>3</td>\n",
       "      <td>Three women were murdered at two different locations in Rome in November 2022. The killer initially murdered a Colombian prostitute before moving to another brothel and killing two Chinese women. A suspect, Giandavide De Pau, was arrested in connection to the murders.</td>\n",
       "    </tr>\n",
       "  </tbody>\n",
       "</table>\n",
       "<p>1531 rows × 6 columns</p>\n",
       "</div>"
      ],
      "text/plain": [
       "                        Name                                  Country  \\\n",
       "0              Luis Garavito       Colombia  Ecuador[3]  Venezuela[3]   \n",
       "1                Pedro López                  Colombia  Peru  Ecuador   \n",
       "2                Javed Iqbal                                 Pakistan   \n",
       "3             Mikhail Popkov                                   Russia   \n",
       "4     Daniel Camargo Barbosa  Colombia  Ecuador  Brazil (alleged)[13]   \n",
       "...                      ...                                      ...   \n",
       "1526                 Unknown                            United States   \n",
       "1527                 Unknown                                   Canada   \n",
       "1528                 Unknown                                   Mexico   \n",
       "1529                 Unknown                                   Canada   \n",
       "1530                 Unknown                                    Italy   \n",
       "\n",
       "      Years active Proven victims Possible victims  \\\n",
       "0     1992–1999[3]            193         193–300+   \n",
       "1        1969–1980            110             300+   \n",
       "2        1998–1999            100              100   \n",
       "3        1992–2010             78              83+   \n",
       "4        1974–1986             72          180[13]   \n",
       "...            ...            ...              ...   \n",
       "1526     2021–2022              2                4   \n",
       "1527  1970–present             80              80+   \n",
       "1528  2020–present             71          86–200+   \n",
       "1529          2022              4                4   \n",
       "1530          2022              0                3   \n",
       "\n",
       "                                                                                                                                                                                                                                                                                                                                                                                                                                                                                                                                                                                   Notes  \n",
       "0                                                Child-murderer, torture-killer, and rapist known as \"La Bestia\" (\"The Beast\"). Garavito confessed to killing 140 boys between six and sixteen years old, from October 1992 to April 1999 in Colombia and neighboring countries.[3] He is suspected of murdering over 300 victims, mostly street children. Garavito was originally sentenced to 1,853 years in prison, but this was later reduced to 22 years, after he led police to many of the bodies of his victims.[4][5] He is scheduled to become eligible for parole in 2023.[6]  \n",
       "1                                                                                                                                                                                                       Child-murderer and rapist, known as \"The Monster of the Andes\". López targeted young girls, between the ages of eight and twelve. Arrested in 1980 and convicted in 1983 of killing three young girls, but claimed to have killed hundreds. Despite being believed to be one of the most prolific serial killers of the twentieth century, he was released in the late 1990s.[7]  \n",
       "2     Child-murderer and rapist, known as \"Kukri\", Iqbal murdered exactly 100 street children by strangling them and covering up his crimes by dissolving the bodies with acid. He was arrested in December 1999 after sending a letter to a newspaper, and was set to be executed in the manner described by the judge who stated, \"You will be strangled to death in front of the parents whose children you killed, Your body will then be cut into 100 pieces and put in acid, the same way you killed the children.\"[8] However, he died in custody before he could be executed.[9]  \n",
       "3                                                                                                                                                                                         Serial rapist-killer nicknamed \"The Werewolf\", who was active for two decades in Angarsk, Irkutsk and Vladivostok. After being convicted of 22 murders in 2015, he confessed to an additional 59 murders, of which he was convicted of 56 in 2018.[10][11] In July 2020, Popkov confessed to more killings, bringing the total number of admitted victims to 83.[12] He was sentenced to life.  \n",
       "4                                            Child and woman murderer, believed to have possibly raped and killed over 150 victims, primarily targeting female children, as they were more likely to be virgins. Confessed to killing 72 victims. He strangled young girls in Colombia and was arrested, but he escaped from prison, and started killing in Ecuador. He was rearrested in 1986, and was allegedly incarcerated in the same Ecuadorian prison as 300+ serial killer Pedro López.[citation needed] Camargo was killed in jail by the nephew of one of his victims.[13][14]  \n",
       "...                                                                                                                                                                                                                                                                                                                                                                                                                                                                                                                                                                                  ...  \n",
       "1526                                                                                                                                                                                                                                                                                                                                                                                                                                                             Shootings of four Muslim men in Albuquerque, New Mexico. A Muslim man was arrested and charged with two of the murders.  \n",
       "1527                                                                                                                                                                                                                                                                                                                                                                                                                                              A corridor of Highway 16 where, since 1970, at least eighty girls and women, primarily indigenous, have gone missing or been murdered.  \n",
       "1528                                                                                                                                                                                               A 13-mile stretch of Federal Highway 86 where, since 2020, at least seventy-one men, women, and children have disappeared or been murdered. The eighteen survivors said that they were abducted by armed men and tortured. It's suspected that cartels are responsible for many of the murders, but there is also a possibility that lone criminals are responsible for some of them.  \n",
       "1529                                                                                                                                                                                                                                                                                                                                                                                Four indigenous women were murdered in Winnipeg in May 2022. The suspect was charged on the same month for the murder of one of the women, and accused six months later for killing the other three.  \n",
       "1530                                                                                                                                                                                                                                                                                                        Three women were murdered at two different locations in Rome in November 2022. The killer initially murdered a Colombian prostitute before moving to another brothel and killing two Chinese women. A suspect, Giandavide De Pau, was arrested in connection to the murders.  \n",
       "\n",
       "[1531 rows x 6 columns]"
      ]
     },
     "execution_count": 71,
     "metadata": {},
     "output_type": "execute_result"
    }
   ],
   "source": [
    "df = pd.read_csv(\"serial_killers.csv\")\n",
    "df"
   ]
  },
  {
   "cell_type": "markdown",
   "metadata": {},
   "source": [
    "- Hacer columna de año que terminó\n",
    "- Hacer columna de caracteristicas\n",
    "- Hacer columna de condena"
   ]
  },
  {
   "cell_type": "code",
   "execution_count": 72,
   "metadata": {},
   "outputs": [
    {
     "data": {
      "text/plain": [
       "Name\n",
       "Unknown                               14\n",
       "Long Island serial killer              2\n",
       "Baba Anujka                            2\n",
       "The Man from the Train                 2\n",
       "Maina Ramulu                           2\n",
       "                                      ..\n",
       "Patty Cannon's gang                    1\n",
       "Sophie Charlotte Elisabeth Ursinus     1\n",
       "Samuel Mason                           1\n",
       "Micajah and Wiley Harpe                1\n",
       "Mario Alberto Berrios Muñoz            1\n",
       "Name: count, Length: 1501, dtype: int64"
      ]
     },
     "execution_count": 72,
     "metadata": {},
     "output_type": "execute_result"
    }
   ],
   "source": [
    "df[\"Name\"].value_counts()"
   ]
  },
  {
   "cell_type": "code",
   "execution_count": 73,
   "metadata": {},
   "outputs": [
    {
     "data": {
      "text/html": [
       "<div>\n",
       "<style scoped>\n",
       "    .dataframe tbody tr th:only-of-type {\n",
       "        vertical-align: middle;\n",
       "    }\n",
       "\n",
       "    .dataframe tbody tr th {\n",
       "        vertical-align: top;\n",
       "    }\n",
       "\n",
       "    .dataframe thead th {\n",
       "        text-align: right;\n",
       "    }\n",
       "</style>\n",
       "<table border=\"1\" class=\"dataframe\">\n",
       "  <thead>\n",
       "    <tr style=\"text-align: right;\">\n",
       "      <th></th>\n",
       "      <th>Name</th>\n",
       "      <th>Country</th>\n",
       "      <th>Years active</th>\n",
       "      <th>Proven victims</th>\n",
       "      <th>Possible victims</th>\n",
       "      <th>Notes</th>\n",
       "    </tr>\n",
       "  </thead>\n",
       "  <tbody>\n",
       "    <tr>\n",
       "      <th>354</th>\n",
       "      <td>Baba Anujka</td>\n",
       "      <td>Kingdom of Yugoslavia</td>\n",
       "      <td>c.1890s–1928</td>\n",
       "      <td>50</td>\n",
       "      <td>150</td>\n",
       "      <td>Anujka was an accomplished amateur chemist from the village of Vladimirovac, Yugoslavia (modern day Serbia). She poisoned at least 50 people and possibly as many as 150 in the late 19th and early 20th centuries. Was sentenced to 15 years in prison in 1929 but released after eight years due to old age.[372]</td>\n",
       "    </tr>\n",
       "    <tr>\n",
       "      <th>578</th>\n",
       "      <td>Baba Anujka</td>\n",
       "      <td>Kingdom of Yugoslavia</td>\n",
       "      <td>1890s–1928</td>\n",
       "      <td>Unconfirmed</td>\n",
       "      <td>150</td>\n",
       "      <td>Anujka was an accomplished amateur chemist from the village of Vladimirovac, Yugoslavia (modern day Serbia). She poisoned at least 50 people and possibly as many as 150 in the late 19th and early 20th centuries. Was sentenced to 15 years in prison in 1929 but released after eight years due to old age.[121]</td>\n",
       "    </tr>\n",
       "  </tbody>\n",
       "</table>\n",
       "</div>"
      ],
      "text/plain": [
       "            Name                Country  Years active Proven victims  \\\n",
       "354  Baba Anujka  Kingdom of Yugoslavia  c.1890s–1928             50   \n",
       "578  Baba Anujka  Kingdom of Yugoslavia    1890s–1928    Unconfirmed   \n",
       "\n",
       "    Possible victims  \\\n",
       "354              150   \n",
       "578              150   \n",
       "\n",
       "                                                                                                                                                                                                                                                                                                                   Notes  \n",
       "354  Anujka was an accomplished amateur chemist from the village of Vladimirovac, Yugoslavia (modern day Serbia). She poisoned at least 50 people and possibly as many as 150 in the late 19th and early 20th centuries. Was sentenced to 15 years in prison in 1929 but released after eight years due to old age.[372]  \n",
       "578  Anujka was an accomplished amateur chemist from the village of Vladimirovac, Yugoslavia (modern day Serbia). She poisoned at least 50 people and possibly as many as 150 in the late 19th and early 20th centuries. Was sentenced to 15 years in prison in 1929 but released after eight years due to old age.[121]  "
      ]
     },
     "execution_count": 73,
     "metadata": {},
     "output_type": "execute_result"
    }
   ],
   "source": [
    "df[df[\"Name\"]== \"Baba Anujka\"]                        "
   ]
  },
  {
   "cell_type": "code",
   "execution_count": 74,
   "metadata": {},
   "outputs": [
    {
     "data": {
      "text/plain": [
       "<bound method Series.drop of Name                                                                                                                                                                                                                                                                                                                        Baba Anujka\n",
       "Country                                                                                                                                                                                                                                                                                                           Kingdom of Yugoslavia\n",
       "Years active                                                                                                                                                                                                                                                                                                                 1890s–1928\n",
       "Proven victims                                                                                                                                                                                                                                                                                                              Unconfirmed\n",
       "Possible victims                                                                                                                                                                                                                                                                                                                    150\n",
       "Notes               Anujka was an accomplished amateur chemist from the village of Vladimirovac, Yugoslavia (modern day Serbia). She poisoned at least 50 people and possibly as many as 150 in the late 19th and early 20th centuries. Was sentenced to 15 years in prison in 1929 but released after eight years due to old age.[121]\n",
       "Name: 578, dtype: object>"
      ]
     },
     "execution_count": 74,
     "metadata": {},
     "output_type": "execute_result"
    }
   ],
   "source": [
    "df.loc[578].drop"
   ]
  },
  {
   "cell_type": "code",
   "execution_count": 75,
   "metadata": {},
   "outputs": [],
   "source": [
    "df.drop(578, inplace=True)\n"
   ]
  },
  {
   "cell_type": "code",
   "execution_count": 76,
   "metadata": {},
   "outputs": [
    {
     "data": {
      "text/html": [
       "<div>\n",
       "<style scoped>\n",
       "    .dataframe tbody tr th:only-of-type {\n",
       "        vertical-align: middle;\n",
       "    }\n",
       "\n",
       "    .dataframe tbody tr th {\n",
       "        vertical-align: top;\n",
       "    }\n",
       "\n",
       "    .dataframe thead th {\n",
       "        text-align: right;\n",
       "    }\n",
       "</style>\n",
       "<table border=\"1\" class=\"dataframe\">\n",
       "  <thead>\n",
       "    <tr style=\"text-align: right;\">\n",
       "      <th></th>\n",
       "      <th>Name</th>\n",
       "      <th>Country</th>\n",
       "      <th>Years active</th>\n",
       "      <th>Proven victims</th>\n",
       "      <th>Possible victims</th>\n",
       "      <th>Notes</th>\n",
       "    </tr>\n",
       "  </thead>\n",
       "  <tbody>\n",
       "    <tr>\n",
       "      <th>193</th>\n",
       "      <td>Long Island serial killer</td>\n",
       "      <td>United States</td>\n",
       "      <td>1996–2010</td>\n",
       "      <td>10</td>\n",
       "      <td>16</td>\n",
       "      <td>Unidentified serial killer also known as \"The Gilgo Beach Killer\". Believed to have murdered 10 to 14 people associated with the sex trade over a period of 15 years.[214]</td>\n",
       "    </tr>\n",
       "    <tr>\n",
       "      <th>1355</th>\n",
       "      <td>Long Island serial killer</td>\n",
       "      <td>United States</td>\n",
       "      <td>1996–2010</td>\n",
       "      <td>10</td>\n",
       "      <td>17</td>\n",
       "      <td>Suspected of killing eight women, a man and a child since 1996 and dumping their bodies along remote beaches in Suffolk and Nassau County, New York. The killer has been referred to as the Gilgo Beach killer because of the location where the first bodies were found</td>\n",
       "    </tr>\n",
       "  </tbody>\n",
       "</table>\n",
       "</div>"
      ],
      "text/plain": [
       "                           Name        Country Years active Proven victims  \\\n",
       "193   Long Island serial killer  United States    1996–2010             10   \n",
       "1355  Long Island serial killer  United States    1996–2010             10   \n",
       "\n",
       "     Possible victims  \\\n",
       "193                16   \n",
       "1355               17   \n",
       "\n",
       "                                                                                                                                                                                                                                                                         Notes  \n",
       "193                                                                                                 Unidentified serial killer also known as \"The Gilgo Beach Killer\". Believed to have murdered 10 to 14 people associated with the sex trade over a period of 15 years.[214]  \n",
       "1355  Suspected of killing eight women, a man and a child since 1996 and dumping their bodies along remote beaches in Suffolk and Nassau County, New York. The killer has been referred to as the Gilgo Beach killer because of the location where the first bodies were found  "
      ]
     },
     "execution_count": 76,
     "metadata": {},
     "output_type": "execute_result"
    }
   ],
   "source": [
    "df[df[\"Name\"]== \"Long Island serial killer\"]                            "
   ]
  },
  {
   "cell_type": "code",
   "execution_count": 77,
   "metadata": {},
   "outputs": [],
   "source": [
    "df.drop(193, inplace=True)\n"
   ]
  },
  {
   "cell_type": "code",
   "execution_count": 78,
   "metadata": {},
   "outputs": [
    {
     "data": {
      "text/html": [
       "<div>\n",
       "<style scoped>\n",
       "    .dataframe tbody tr th:only-of-type {\n",
       "        vertical-align: middle;\n",
       "    }\n",
       "\n",
       "    .dataframe tbody tr th {\n",
       "        vertical-align: top;\n",
       "    }\n",
       "\n",
       "    .dataframe thead th {\n",
       "        text-align: right;\n",
       "    }\n",
       "</style>\n",
       "<table border=\"1\" class=\"dataframe\">\n",
       "  <thead>\n",
       "    <tr style=\"text-align: right;\">\n",
       "      <th></th>\n",
       "      <th>Name</th>\n",
       "      <th>Country</th>\n",
       "      <th>Years active</th>\n",
       "      <th>Proven victims</th>\n",
       "      <th>Possible victims</th>\n",
       "      <th>Notes</th>\n",
       "    </tr>\n",
       "  </thead>\n",
       "  <tbody>\n",
       "    <tr>\n",
       "      <th>470</th>\n",
       "      <td>The Man from the Train</td>\n",
       "      <td>United States</td>\n",
       "      <td>1898–1912</td>\n",
       "      <td>0</td>\n",
       "      <td>40–100+</td>\n",
       "      <td>Murdered entire families in their sleep, arriving and departing by train. Existence (and probable but not proven identity) discovered more than 100 years after the murders, by analysis of contemporary records, showing a markedly common modus operandi for many previously unconnected murders.[502]</td>\n",
       "    </tr>\n",
       "    <tr>\n",
       "      <th>1356</th>\n",
       "      <td>The Man from the Train</td>\n",
       "      <td>United States</td>\n",
       "      <td>1900–1912</td>\n",
       "      <td>0</td>\n",
       "      <td>40+</td>\n",
       "      <td>Probably Paul Mueller. Killed whole families in their sleep, from the east coast to the west, arriving and departing by train. Existence (and probable but not proven identity) discovered over 100 years after the murders, by analysis of contemporary records, showing a markedly common modus operandi for many previously unconnected crimes.</td>\n",
       "    </tr>\n",
       "  </tbody>\n",
       "</table>\n",
       "</div>"
      ],
      "text/plain": [
       "                        Name        Country Years active Proven victims  \\\n",
       "470   The Man from the Train  United States    1898–1912              0   \n",
       "1356  The Man from the Train  United States    1900–1912              0   \n",
       "\n",
       "     Possible victims  \\\n",
       "470           40–100+   \n",
       "1356              40+   \n",
       "\n",
       "                                                                                                                                                                                                                                                                                                                                                   Notes  \n",
       "470                                             Murdered entire families in their sleep, arriving and departing by train. Existence (and probable but not proven identity) discovered more than 100 years after the murders, by analysis of contemporary records, showing a markedly common modus operandi for many previously unconnected murders.[502]  \n",
       "1356  Probably Paul Mueller. Killed whole families in their sleep, from the east coast to the west, arriving and departing by train. Existence (and probable but not proven identity) discovered over 100 years after the murders, by analysis of contemporary records, showing a markedly common modus operandi for many previously unconnected crimes.  "
      ]
     },
     "execution_count": 78,
     "metadata": {},
     "output_type": "execute_result"
    }
   ],
   "source": [
    "df[df[\"Name\"]== \"The Man from the Train\"]"
   ]
  },
  {
   "cell_type": "code",
   "execution_count": 79,
   "metadata": {},
   "outputs": [],
   "source": [
    "df.drop(1356, inplace=True)\n"
   ]
  },
  {
   "cell_type": "code",
   "execution_count": 80,
   "metadata": {},
   "outputs": [
    {
     "data": {
      "text/html": [
       "<div>\n",
       "<style scoped>\n",
       "    .dataframe tbody tr th:only-of-type {\n",
       "        vertical-align: middle;\n",
       "    }\n",
       "\n",
       "    .dataframe tbody tr th {\n",
       "        vertical-align: top;\n",
       "    }\n",
       "\n",
       "    .dataframe thead th {\n",
       "        text-align: right;\n",
       "    }\n",
       "</style>\n",
       "<table border=\"1\" class=\"dataframe\">\n",
       "  <thead>\n",
       "    <tr style=\"text-align: right;\">\n",
       "      <th></th>\n",
       "      <th>Name</th>\n",
       "      <th>Country</th>\n",
       "      <th>Years active</th>\n",
       "      <th>Proven victims</th>\n",
       "      <th>Possible victims</th>\n",
       "      <th>Notes</th>\n",
       "    </tr>\n",
       "  </thead>\n",
       "  <tbody>\n",
       "    <tr>\n",
       "      <th>91</th>\n",
       "      <td>Maina Ramulu</td>\n",
       "      <td>India</td>\n",
       "      <td>2003–2020</td>\n",
       "      <td>16</td>\n",
       "      <td>18</td>\n",
       "      <td>Convicted of murdering 16 women between 2003 and 2013 during three separate murder sprees. He was released from prison in 2020, and allegedly murdered two more women.[105]</td>\n",
       "    </tr>\n",
       "    <tr>\n",
       "      <th>1501</th>\n",
       "      <td>Maina Ramulu</td>\n",
       "      <td>India</td>\n",
       "      <td>2003–2020</td>\n",
       "      <td>16</td>\n",
       "      <td>18</td>\n",
       "      <td>Convicted of murdering sixteen women during three separate murder sprees due to his hatred of women. He has now been charged with the murders of two more women committed after he was released from prison in 2020.</td>\n",
       "    </tr>\n",
       "  </tbody>\n",
       "</table>\n",
       "</div>"
      ],
      "text/plain": [
       "              Name Country Years active Proven victims Possible victims  \\\n",
       "91    Maina Ramulu   India    2003–2020             16               18   \n",
       "1501  Maina Ramulu   India    2003–2020             16               18   \n",
       "\n",
       "                                                                                                                                                                                                                     Notes  \n",
       "91                                             Convicted of murdering 16 women between 2003 and 2013 during three separate murder sprees. He was released from prison in 2020, and allegedly murdered two more women.[105]  \n",
       "1501  Convicted of murdering sixteen women during three separate murder sprees due to his hatred of women. He has now been charged with the murders of two more women committed after he was released from prison in 2020.  "
      ]
     },
     "execution_count": 80,
     "metadata": {},
     "output_type": "execute_result"
    }
   ],
   "source": [
    "df[df[\"Name\"]== \"Maina Ramulu\"]"
   ]
  },
  {
   "cell_type": "code",
   "execution_count": 81,
   "metadata": {},
   "outputs": [],
   "source": [
    "df.drop(1501, inplace=True)"
   ]
  },
  {
   "cell_type": "code",
   "execution_count": 82,
   "metadata": {},
   "outputs": [
    {
     "data": {
      "text/html": [
       "<div>\n",
       "<style scoped>\n",
       "    .dataframe tbody tr th:only-of-type {\n",
       "        vertical-align: middle;\n",
       "    }\n",
       "\n",
       "    .dataframe tbody tr th {\n",
       "        vertical-align: top;\n",
       "    }\n",
       "\n",
       "    .dataframe thead th {\n",
       "        text-align: right;\n",
       "    }\n",
       "</style>\n",
       "<table border=\"1\" class=\"dataframe\">\n",
       "  <thead>\n",
       "    <tr style=\"text-align: right;\">\n",
       "      <th></th>\n",
       "      <th>Name</th>\n",
       "      <th>Country</th>\n",
       "      <th>Years active</th>\n",
       "      <th>Proven victims</th>\n",
       "      <th>Possible victims</th>\n",
       "      <th>Notes</th>\n",
       "    </tr>\n",
       "  </thead>\n",
       "  <tbody>\n",
       "    <tr>\n",
       "      <th>568</th>\n",
       "      <td>Servant Girl Annihilator</td>\n",
       "      <td>United States</td>\n",
       "      <td>1884–1885</td>\n",
       "      <td>Unconfirmed</td>\n",
       "      <td>8</td>\n",
       "      <td>Unidentified killer, also nicknamed \"The Austin Axe Murderer\". Abducted women from their bedrooms at night, raped and killed them, hitting them with an axe or stabbing them with a knife or other iron implement, always in the head. Two husbands sleeping with their wives were dispatched first with a single strike from an axe (one died) but children, when present, were usually not harmed. The first five women targeted were black servants sleeping in cabins; the last two, white women in houses.[110] Some sources name Nathan Elgin (1866–1886), an African-American cook shot by police while he was assaulting a girl, as the likely culprit.[111][112]</td>\n",
       "    </tr>\n",
       "    <tr>\n",
       "      <th>1370</th>\n",
       "      <td>Servant Girl Annihilator</td>\n",
       "      <td>United States</td>\n",
       "      <td>1884–1885</td>\n",
       "      <td>8</td>\n",
       "      <td>8</td>\n",
       "      <td>Also known as the \"Austin Axe Murderer\"; responsible for at least seven murders in Austin, Texas between 1884 and 1885</td>\n",
       "    </tr>\n",
       "  </tbody>\n",
       "</table>\n",
       "</div>"
      ],
      "text/plain": [
       "                          Name        Country Years active Proven victims  \\\n",
       "568   Servant Girl Annihilator  United States    1884–1885    Unconfirmed   \n",
       "1370  Servant Girl Annihilator  United States    1884–1885              8   \n",
       "\n",
       "     Possible victims  \\\n",
       "568                 8   \n",
       "1370                8   \n",
       "\n",
       "                                                                                                                                                                                                                                                                                                                                                                                                                                                                                                                                                                                                                                                                          Notes  \n",
       "568   Unidentified killer, also nicknamed \"The Austin Axe Murderer\". Abducted women from their bedrooms at night, raped and killed them, hitting them with an axe or stabbing them with a knife or other iron implement, always in the head. Two husbands sleeping with their wives were dispatched first with a single strike from an axe (one died) but children, when present, were usually not harmed. The first five women targeted were black servants sleeping in cabins; the last two, white women in houses.[110] Some sources name Nathan Elgin (1866–1886), an African-American cook shot by police while he was assaulting a girl, as the likely culprit.[111][112]  \n",
       "1370                                                                                                                                                                                                                                                                                                                                                                                                                                                                                                                                                     Also known as the \"Austin Axe Murderer\"; responsible for at least seven murders in Austin, Texas between 1884 and 1885  "
      ]
     },
     "execution_count": 82,
     "metadata": {},
     "output_type": "execute_result"
    }
   ],
   "source": [
    "df[df[\"Name\"]== \"Servant Girl Annihilator\"]"
   ]
  },
  {
   "cell_type": "code",
   "execution_count": 83,
   "metadata": {},
   "outputs": [],
   "source": [
    "df.drop(568, inplace=True)"
   ]
  },
  {
   "cell_type": "code",
   "execution_count": 84,
   "metadata": {},
   "outputs": [
    {
     "data": {
      "text/html": [
       "<div>\n",
       "<style scoped>\n",
       "    .dataframe tbody tr th:only-of-type {\n",
       "        vertical-align: middle;\n",
       "    }\n",
       "\n",
       "    .dataframe tbody tr th {\n",
       "        vertical-align: top;\n",
       "    }\n",
       "\n",
       "    .dataframe thead th {\n",
       "        text-align: right;\n",
       "    }\n",
       "</style>\n",
       "<table border=\"1\" class=\"dataframe\">\n",
       "  <thead>\n",
       "    <tr style=\"text-align: right;\">\n",
       "      <th></th>\n",
       "      <th>Name</th>\n",
       "      <th>Country</th>\n",
       "      <th>Years active</th>\n",
       "      <th>Proven victims</th>\n",
       "      <th>Possible victims</th>\n",
       "      <th>Notes</th>\n",
       "    </tr>\n",
       "  </thead>\n",
       "  <tbody>\n",
       "    <tr>\n",
       "      <th>357</th>\n",
       "      <td>Jane Toppan</td>\n",
       "      <td>United States</td>\n",
       "      <td>1885–1901</td>\n",
       "      <td>31</td>\n",
       "      <td>Unconfirmed</td>\n",
       "      <td>Nurse that confessed to poisoning 31 patients. Found not guilty by reason of insanity and interned in a mental institution until her death in 1938.[375]</td>\n",
       "    </tr>\n",
       "    <tr>\n",
       "      <th>570</th>\n",
       "      <td>Jane Toppan</td>\n",
       "      <td>United States</td>\n",
       "      <td>1885–1901</td>\n",
       "      <td>Unconfirmed</td>\n",
       "      <td>31</td>\n",
       "      <td>Nurse who confessed to poisoning 31 people in her care and lying in bed with them as they died for her own sexual gratification. Found not guilty by reason of insanity and committed to a mental hospital in which she remained for the rest of her life.[114]</td>\n",
       "    </tr>\n",
       "  </tbody>\n",
       "</table>\n",
       "</div>"
      ],
      "text/plain": [
       "            Name        Country Years active Proven victims Possible victims  \\\n",
       "357  Jane Toppan  United States    1885–1901             31      Unconfirmed   \n",
       "570  Jane Toppan  United States    1885–1901    Unconfirmed               31   \n",
       "\n",
       "                                                                                                                                                                                                                                                               Notes  \n",
       "357                                                                                                         Nurse that confessed to poisoning 31 patients. Found not guilty by reason of insanity and interned in a mental institution until her death in 1938.[375]  \n",
       "570  Nurse who confessed to poisoning 31 people in her care and lying in bed with them as they died for her own sexual gratification. Found not guilty by reason of insanity and committed to a mental hospital in which she remained for the rest of her life.[114]  "
      ]
     },
     "execution_count": 84,
     "metadata": {},
     "output_type": "execute_result"
    }
   ],
   "source": [
    "df[df[\"Name\"]== \"Jane Toppan\"]"
   ]
  },
  {
   "cell_type": "code",
   "execution_count": 85,
   "metadata": {},
   "outputs": [],
   "source": [
    "df.drop(570, inplace=True)"
   ]
  },
  {
   "cell_type": "code",
   "execution_count": 86,
   "metadata": {},
   "outputs": [
    {
     "data": {
      "text/html": [
       "<div>\n",
       "<style scoped>\n",
       "    .dataframe tbody tr th:only-of-type {\n",
       "        vertical-align: middle;\n",
       "    }\n",
       "\n",
       "    .dataframe tbody tr th {\n",
       "        vertical-align: top;\n",
       "    }\n",
       "\n",
       "    .dataframe thead th {\n",
       "        text-align: right;\n",
       "    }\n",
       "</style>\n",
       "<table border=\"1\" class=\"dataframe\">\n",
       "  <thead>\n",
       "    <tr style=\"text-align: right;\">\n",
       "      <th></th>\n",
       "      <th>Name</th>\n",
       "      <th>Country</th>\n",
       "      <th>Years active</th>\n",
       "      <th>Proven victims</th>\n",
       "      <th>Possible victims</th>\n",
       "      <th>Notes</th>\n",
       "    </tr>\n",
       "  </thead>\n",
       "  <tbody>\n",
       "    <tr>\n",
       "      <th>285</th>\n",
       "      <td>Zodiac Killer</td>\n",
       "      <td>United States</td>\n",
       "      <td>1968–1969</td>\n",
       "      <td>5</td>\n",
       "      <td>37</td>\n",
       "      <td>Targeted young couples. Remains unsolved but open in the California jurisdictions where the five certain Zodiac murders occurred. Potentially 37 total victims claimed but unverified.[303]</td>\n",
       "    </tr>\n",
       "    <tr>\n",
       "      <th>1379</th>\n",
       "      <td>Zodiac Killer</td>\n",
       "      <td>United States</td>\n",
       "      <td>1968–1974</td>\n",
       "      <td>5</td>\n",
       "      <td>37</td>\n",
       "      <td>Targeted young couples. Remains unsolved but open in the California jurisdictions the five certain Zodiac murders occurred. Potentially 37 total victims claimed but unverified.</td>\n",
       "    </tr>\n",
       "  </tbody>\n",
       "</table>\n",
       "</div>"
      ],
      "text/plain": [
       "               Name        Country Years active Proven victims  \\\n",
       "285   Zodiac Killer  United States    1968–1969              5   \n",
       "1379  Zodiac Killer  United States    1968–1974              5   \n",
       "\n",
       "     Possible victims  \\\n",
       "285                37   \n",
       "1379               37   \n",
       "\n",
       "                                                                                                                                                                                            Notes  \n",
       "285   Targeted young couples. Remains unsolved but open in the California jurisdictions where the five certain Zodiac murders occurred. Potentially 37 total victims claimed but unverified.[303]  \n",
       "1379             Targeted young couples. Remains unsolved but open in the California jurisdictions the five certain Zodiac murders occurred. Potentially 37 total victims claimed but unverified.  "
      ]
     },
     "execution_count": 86,
     "metadata": {},
     "output_type": "execute_result"
    }
   ],
   "source": [
    "df[df[\"Name\"]== \"Zodiac Killer\"]"
   ]
  },
  {
   "cell_type": "code",
   "execution_count": 87,
   "metadata": {},
   "outputs": [],
   "source": [
    "df.drop(285, inplace=True)"
   ]
  },
  {
   "cell_type": "code",
   "execution_count": 88,
   "metadata": {},
   "outputs": [
    {
     "data": {
      "text/html": [
       "<div>\n",
       "<style scoped>\n",
       "    .dataframe tbody tr th:only-of-type {\n",
       "        vertical-align: middle;\n",
       "    }\n",
       "\n",
       "    .dataframe tbody tr th {\n",
       "        vertical-align: top;\n",
       "    }\n",
       "\n",
       "    .dataframe thead th {\n",
       "        text-align: right;\n",
       "    }\n",
       "</style>\n",
       "<table border=\"1\" class=\"dataframe\">\n",
       "  <thead>\n",
       "    <tr style=\"text-align: right;\">\n",
       "      <th></th>\n",
       "      <th>Name</th>\n",
       "      <th>Country</th>\n",
       "      <th>Years active</th>\n",
       "      <th>Proven victims</th>\n",
       "      <th>Possible victims</th>\n",
       "      <th>Notes</th>\n",
       "    </tr>\n",
       "  </thead>\n",
       "  <tbody>\n",
       "    <tr>\n",
       "      <th>414</th>\n",
       "      <td>Briley Brothers</td>\n",
       "      <td>United States</td>\n",
       "      <td>1971–1979</td>\n",
       "      <td>12</td>\n",
       "      <td>Unconfirmed</td>\n",
       "      <td>Three brothers and an accomplice responsible for 12 murders in the 1970s in Richmond, Virginia.[430]</td>\n",
       "    </tr>\n",
       "    <tr>\n",
       "      <th>671</th>\n",
       "      <td>Briley Brothers</td>\n",
       "      <td>United States</td>\n",
       "      <td>1979</td>\n",
       "      <td>12</td>\n",
       "      <td>21</td>\n",
       "      <td>Three brothers and an accomplice responsible for 11 murders</td>\n",
       "    </tr>\n",
       "  </tbody>\n",
       "</table>\n",
       "</div>"
      ],
      "text/plain": [
       "                Name        Country Years active Proven victims  \\\n",
       "414  Briley Brothers  United States    1971–1979             12   \n",
       "671  Briley Brothers  United States         1979             12   \n",
       "\n",
       "    Possible victims  \\\n",
       "414      Unconfirmed   \n",
       "671               21   \n",
       "\n",
       "                                                                                                    Notes  \n",
       "414  Three brothers and an accomplice responsible for 12 murders in the 1970s in Richmond, Virginia.[430]  \n",
       "671                                           Three brothers and an accomplice responsible for 11 murders  "
      ]
     },
     "execution_count": 88,
     "metadata": {},
     "output_type": "execute_result"
    }
   ],
   "source": [
    "df[df[\"Name\"]== \"Briley Brothers\"]"
   ]
  },
  {
   "cell_type": "code",
   "execution_count": 89,
   "metadata": {},
   "outputs": [],
   "source": [
    "df.drop(414, inplace=True)"
   ]
  },
  {
   "cell_type": "code",
   "execution_count": 90,
   "metadata": {},
   "outputs": [
    {
     "data": {
      "text/html": [
       "<div>\n",
       "<style scoped>\n",
       "    .dataframe tbody tr th:only-of-type {\n",
       "        vertical-align: middle;\n",
       "    }\n",
       "\n",
       "    .dataframe tbody tr th {\n",
       "        vertical-align: top;\n",
       "    }\n",
       "\n",
       "    .dataframe thead th {\n",
       "        text-align: right;\n",
       "    }\n",
       "</style>\n",
       "<table border=\"1\" class=\"dataframe\">\n",
       "  <thead>\n",
       "    <tr style=\"text-align: right;\">\n",
       "      <th></th>\n",
       "      <th>Name</th>\n",
       "      <th>Country</th>\n",
       "      <th>Years active</th>\n",
       "      <th>Proven victims</th>\n",
       "      <th>Possible victims</th>\n",
       "      <th>Notes</th>\n",
       "    </tr>\n",
       "  </thead>\n",
       "  <tbody>\n",
       "    <tr>\n",
       "      <th>223</th>\n",
       "      <td>Dr. No</td>\n",
       "      <td>United States</td>\n",
       "      <td>1981–1990</td>\n",
       "      <td>9</td>\n",
       "      <td>12</td>\n",
       "      <td>Supposedly murdered prostitutes and exotic dancers; his first victim was Marcia King, who was identified in 2018.[243][244]</td>\n",
       "    </tr>\n",
       "    <tr>\n",
       "      <th>1335</th>\n",
       "      <td>Dr. No</td>\n",
       "      <td>United States</td>\n",
       "      <td>1981–1990</td>\n",
       "      <td>9</td>\n",
       "      <td>9+</td>\n",
       "      <td>Suspected of raping and strangling prostitutes alongside the Interstate 71; his first suspected victim is Marcia King, who was identified in 2018. Samuel Legg III, a trucker, has been arrested and charged but thus far (as of 2020) is incompetent to stand trial. He is receiving psychiatric treatment while they try to restore competency.</td>\n",
       "    </tr>\n",
       "  </tbody>\n",
       "</table>\n",
       "</div>"
      ],
      "text/plain": [
       "        Name        Country Years active Proven victims Possible victims  \\\n",
       "223   Dr. No  United States    1981–1990              9               12   \n",
       "1335  Dr. No  United States    1981–1990              9               9+   \n",
       "\n",
       "                                                                                                                                                                                                                                                                                                                                                  Notes  \n",
       "223                                                                                                                                                                                                                         Supposedly murdered prostitutes and exotic dancers; his first victim was Marcia King, who was identified in 2018.[243][244]  \n",
       "1335  Suspected of raping and strangling prostitutes alongside the Interstate 71; his first suspected victim is Marcia King, who was identified in 2018. Samuel Legg III, a trucker, has been arrested and charged but thus far (as of 2020) is incompetent to stand trial. He is receiving psychiatric treatment while they try to restore competency.  "
      ]
     },
     "execution_count": 90,
     "metadata": {},
     "output_type": "execute_result"
    }
   ],
   "source": [
    "df[df[\"Name\"]== \"Dr. No\"]"
   ]
  },
  {
   "cell_type": "code",
   "execution_count": 91,
   "metadata": {},
   "outputs": [],
   "source": [
    "df.drop(1335, inplace=True)"
   ]
  },
  {
   "cell_type": "code",
   "execution_count": 92,
   "metadata": {},
   "outputs": [
    {
     "data": {
      "text/html": [
       "<div>\n",
       "<style scoped>\n",
       "    .dataframe tbody tr th:only-of-type {\n",
       "        vertical-align: middle;\n",
       "    }\n",
       "\n",
       "    .dataframe tbody tr th {\n",
       "        vertical-align: top;\n",
       "    }\n",
       "\n",
       "    .dataframe thead th {\n",
       "        text-align: right;\n",
       "    }\n",
       "</style>\n",
       "<table border=\"1\" class=\"dataframe\">\n",
       "  <thead>\n",
       "    <tr style=\"text-align: right;\">\n",
       "      <th></th>\n",
       "      <th>Name</th>\n",
       "      <th>Country</th>\n",
       "      <th>Years active</th>\n",
       "      <th>Proven victims</th>\n",
       "      <th>Possible victims</th>\n",
       "      <th>Notes</th>\n",
       "    </tr>\n",
       "  </thead>\n",
       "  <tbody>\n",
       "    <tr>\n",
       "      <th>284</th>\n",
       "      <td>Lázaro Barbosa de Sousa</td>\n",
       "      <td>Brazil</td>\n",
       "      <td>2006–2021</td>\n",
       "      <td>6</td>\n",
       "      <td>6</td>\n",
       "      <td>Convicted of a double murder in 2007; later escaped from prison and murdered a family of 4 before dying in a shootout with the police.[302]</td>\n",
       "    </tr>\n",
       "    <tr>\n",
       "      <th>1508</th>\n",
       "      <td>Lázaro Barbosa de Sousa</td>\n",
       "      <td>Brazil</td>\n",
       "      <td>2007–2021</td>\n",
       "      <td>6</td>\n",
       "      <td>6</td>\n",
       "      <td>Convicted of a double murder in 2007. Later escaped prison and killed a family of four. After a 19-day-long manhunt, he died in a shootout with the police.</td>\n",
       "    </tr>\n",
       "  </tbody>\n",
       "</table>\n",
       "</div>"
      ],
      "text/plain": [
       "                         Name Country Years active Proven victims  \\\n",
       "284   Lázaro Barbosa de Sousa  Brazil    2006–2021              6   \n",
       "1508  Lázaro Barbosa de Sousa  Brazil    2007–2021              6   \n",
       "\n",
       "     Possible victims  \\\n",
       "284                 6   \n",
       "1508                6   \n",
       "\n",
       "                                                                                                                                                            Notes  \n",
       "284                   Convicted of a double murder in 2007; later escaped from prison and murdered a family of 4 before dying in a shootout with the police.[302]  \n",
       "1508  Convicted of a double murder in 2007. Later escaped prison and killed a family of four. After a 19-day-long manhunt, he died in a shootout with the police.  "
      ]
     },
     "execution_count": 92,
     "metadata": {},
     "output_type": "execute_result"
    }
   ],
   "source": [
    "df[df[\"Name\"]== \"Lázaro Barbosa de Sousa\"]\n"
   ]
  },
  {
   "cell_type": "code",
   "execution_count": 93,
   "metadata": {},
   "outputs": [],
   "source": [
    "df.drop(284, inplace=True)"
   ]
  },
  {
   "cell_type": "code",
   "execution_count": 94,
   "metadata": {},
   "outputs": [
    {
     "data": {
      "text/html": [
       "<div>\n",
       "<style scoped>\n",
       "    .dataframe tbody tr th:only-of-type {\n",
       "        vertical-align: middle;\n",
       "    }\n",
       "\n",
       "    .dataframe tbody tr th {\n",
       "        vertical-align: top;\n",
       "    }\n",
       "\n",
       "    .dataframe thead th {\n",
       "        text-align: right;\n",
       "    }\n",
       "</style>\n",
       "<table border=\"1\" class=\"dataframe\">\n",
       "  <thead>\n",
       "    <tr style=\"text-align: right;\">\n",
       "      <th></th>\n",
       "      <th>Name</th>\n",
       "      <th>Country</th>\n",
       "      <th>Years active</th>\n",
       "      <th>Proven victims</th>\n",
       "      <th>Possible victims</th>\n",
       "      <th>Notes</th>\n",
       "    </tr>\n",
       "  </thead>\n",
       "  <tbody>\n",
       "    <tr>\n",
       "      <th>141</th>\n",
       "      <td>Boston Strangler</td>\n",
       "      <td>United States</td>\n",
       "      <td>1962–1964</td>\n",
       "      <td>13</td>\n",
       "      <td>13</td>\n",
       "      <td>Although Albert DeSalvo was widely thought to be the Boston Strangler, police and others analysing the case have long doubted the truth of his confession.[161] Sentenced to life for a series of rapes, he was murdered in prison. DeSalvo's body was exhumed for DNA testing, and compared to a substance found on the exhumed body of the Boston Strangler's last victim. In 2001, it was declared not to match, but in 2013 officials announced that improvements in DNA extraction technology produced viable samples from the degraded evidence. DeSalvo's body was reexhumed and found to match.</td>\n",
       "    </tr>\n",
       "    <tr>\n",
       "      <th>1319</th>\n",
       "      <td>Boston Strangler</td>\n",
       "      <td>United States</td>\n",
       "      <td>1962–1964</td>\n",
       "      <td>13</td>\n",
       "      <td>13</td>\n",
       "      <td>1960s deaths of 13 women (five young, eight older), mostly with their own stockings as ligature. Albert DeSalvo confessed to the murders, but was never indicted; DNA evidence tested in 2013 suggested his guilt in one of the cases</td>\n",
       "    </tr>\n",
       "  </tbody>\n",
       "</table>\n",
       "</div>"
      ],
      "text/plain": [
       "                  Name        Country Years active Proven victims  \\\n",
       "141   Boston Strangler  United States    1962–1964             13   \n",
       "1319  Boston Strangler  United States    1962–1964             13   \n",
       "\n",
       "     Possible victims  \\\n",
       "141                13   \n",
       "1319               13   \n",
       "\n",
       "                                                                                                                                                                                                                                                                                                                                                                                                                                                                                                                                                                                                        Notes  \n",
       "141   Although Albert DeSalvo was widely thought to be the Boston Strangler, police and others analysing the case have long doubted the truth of his confession.[161] Sentenced to life for a series of rapes, he was murdered in prison. DeSalvo's body was exhumed for DNA testing, and compared to a substance found on the exhumed body of the Boston Strangler's last victim. In 2001, it was declared not to match, but in 2013 officials announced that improvements in DNA extraction technology produced viable samples from the degraded evidence. DeSalvo's body was reexhumed and found to match.  \n",
       "1319                                                                                                                                                                                                                                                                                                                                                                    1960s deaths of 13 women (five young, eight older), mostly with their own stockings as ligature. Albert DeSalvo confessed to the murders, but was never indicted; DNA evidence tested in 2013 suggested his guilt in one of the cases  "
      ]
     },
     "execution_count": 94,
     "metadata": {},
     "output_type": "execute_result"
    }
   ],
   "source": [
    "df[df[\"Name\"]== \"Boston Strangler\"]"
   ]
  },
  {
   "cell_type": "code",
   "execution_count": 95,
   "metadata": {},
   "outputs": [],
   "source": [
    "df.drop(141, inplace=True)"
   ]
  },
  {
   "cell_type": "code",
   "execution_count": 96,
   "metadata": {},
   "outputs": [
    {
     "data": {
      "text/html": [
       "<div>\n",
       "<style scoped>\n",
       "    .dataframe tbody tr th:only-of-type {\n",
       "        vertical-align: middle;\n",
       "    }\n",
       "\n",
       "    .dataframe tbody tr th {\n",
       "        vertical-align: top;\n",
       "    }\n",
       "\n",
       "    .dataframe thead th {\n",
       "        text-align: right;\n",
       "    }\n",
       "</style>\n",
       "<table border=\"1\" class=\"dataframe\">\n",
       "  <thead>\n",
       "    <tr style=\"text-align: right;\">\n",
       "      <th></th>\n",
       "      <th>Name</th>\n",
       "      <th>Country</th>\n",
       "      <th>Years active</th>\n",
       "      <th>Proven victims</th>\n",
       "      <th>Possible victims</th>\n",
       "      <th>Notes</th>\n",
       "    </tr>\n",
       "  </thead>\n",
       "  <tbody>\n",
       "    <tr>\n",
       "      <th>238</th>\n",
       "      <td>Axeman of New Orleans</td>\n",
       "      <td>United States</td>\n",
       "      <td>1918–1919</td>\n",
       "      <td>8</td>\n",
       "      <td>12+</td>\n",
       "      <td>Unidentified serial killer of at least eight people in the New Orleans area from May 1918 to October 1919.[258]</td>\n",
       "    </tr>\n",
       "    <tr>\n",
       "      <th>1316</th>\n",
       "      <td>Axeman of New Orleans</td>\n",
       "      <td>United States</td>\n",
       "      <td>1918–1919</td>\n",
       "      <td>6</td>\n",
       "      <td>6</td>\n",
       "      <td>Responsible for the deaths of six or seven people in New Orleans and the surrounding areas from 1918 to 1919</td>\n",
       "    </tr>\n",
       "  </tbody>\n",
       "</table>\n",
       "</div>"
      ],
      "text/plain": [
       "                       Name        Country Years active Proven victims  \\\n",
       "238   Axeman of New Orleans  United States    1918–1919              8   \n",
       "1316  Axeman of New Orleans  United States    1918–1919              6   \n",
       "\n",
       "     Possible victims  \\\n",
       "238               12+   \n",
       "1316                6   \n",
       "\n",
       "                                                                                                                Notes  \n",
       "238   Unidentified serial killer of at least eight people in the New Orleans area from May 1918 to October 1919.[258]  \n",
       "1316     Responsible for the deaths of six or seven people in New Orleans and the surrounding areas from 1918 to 1919  "
      ]
     },
     "execution_count": 96,
     "metadata": {},
     "output_type": "execute_result"
    }
   ],
   "source": [
    "df[df[\"Name\"]== \"Axeman of New Orleans\"]"
   ]
  },
  {
   "cell_type": "code",
   "execution_count": 97,
   "metadata": {},
   "outputs": [],
   "source": [
    "df.drop(1316, inplace=True)"
   ]
  },
  {
   "cell_type": "code",
   "execution_count": 98,
   "metadata": {},
   "outputs": [
    {
     "data": {
      "text/html": [
       "<div>\n",
       "<style scoped>\n",
       "    .dataframe tbody tr th:only-of-type {\n",
       "        vertical-align: middle;\n",
       "    }\n",
       "\n",
       "    .dataframe tbody tr th {\n",
       "        vertical-align: top;\n",
       "    }\n",
       "\n",
       "    .dataframe thead th {\n",
       "        text-align: right;\n",
       "    }\n",
       "</style>\n",
       "<table border=\"1\" class=\"dataframe\">\n",
       "  <thead>\n",
       "    <tr style=\"text-align: right;\">\n",
       "      <th></th>\n",
       "      <th>Name</th>\n",
       "      <th>Country</th>\n",
       "      <th>Years active</th>\n",
       "      <th>Proven victims</th>\n",
       "      <th>Possible victims</th>\n",
       "      <th>Notes</th>\n",
       "    </tr>\n",
       "  </thead>\n",
       "  <tbody>\n",
       "    <tr>\n",
       "      <th>225</th>\n",
       "      <td>New Bedford Highway Killer</td>\n",
       "      <td>United States</td>\n",
       "      <td>1988–1989</td>\n",
       "      <td>9</td>\n",
       "      <td>11</td>\n",
       "      <td>Unidentified serial killer who killed nine women and disappearance of two others between 1988 and 1989.[246]</td>\n",
       "    </tr>\n",
       "    <tr>\n",
       "      <th>1361</th>\n",
       "      <td>New Bedford Highway Killer</td>\n",
       "      <td>United States</td>\n",
       "      <td>1988–1989</td>\n",
       "      <td>9</td>\n",
       "      <td>11</td>\n",
       "      <td>Murders of nine women and disappearance of two others between 1988 and 1989</td>\n",
       "    </tr>\n",
       "  </tbody>\n",
       "</table>\n",
       "</div>"
      ],
      "text/plain": [
       "                            Name        Country Years active Proven victims  \\\n",
       "225   New Bedford Highway Killer  United States    1988–1989              9   \n",
       "1361  New Bedford Highway Killer  United States    1988–1989              9   \n",
       "\n",
       "     Possible victims  \\\n",
       "225                11   \n",
       "1361               11   \n",
       "\n",
       "                                                                                                             Notes  \n",
       "225   Unidentified serial killer who killed nine women and disappearance of two others between 1988 and 1989.[246]  \n",
       "1361                                   Murders of nine women and disappearance of two others between 1988 and 1989  "
      ]
     },
     "execution_count": 98,
     "metadata": {},
     "output_type": "execute_result"
    }
   ],
   "source": [
    "df[df[\"Name\"]== \"New Bedford Highway Killer\"]"
   ]
  },
  {
   "cell_type": "code",
   "execution_count": 99,
   "metadata": {},
   "outputs": [],
   "source": [
    "df.drop(225, inplace=True)"
   ]
  },
  {
   "cell_type": "code",
   "execution_count": 100,
   "metadata": {},
   "outputs": [
    {
     "data": {
      "text/html": [
       "<div>\n",
       "<style scoped>\n",
       "    .dataframe tbody tr th:only-of-type {\n",
       "        vertical-align: middle;\n",
       "    }\n",
       "\n",
       "    .dataframe tbody tr th {\n",
       "        vertical-align: top;\n",
       "    }\n",
       "\n",
       "    .dataframe thead th {\n",
       "        text-align: right;\n",
       "    }\n",
       "</style>\n",
       "<table border=\"1\" class=\"dataframe\">\n",
       "  <thead>\n",
       "    <tr style=\"text-align: right;\">\n",
       "      <th></th>\n",
       "      <th>Name</th>\n",
       "      <th>Country</th>\n",
       "      <th>Years active</th>\n",
       "      <th>Proven victims</th>\n",
       "      <th>Possible victims</th>\n",
       "      <th>Notes</th>\n",
       "    </tr>\n",
       "  </thead>\n",
       "  <tbody>\n",
       "    <tr>\n",
       "      <th>115</th>\n",
       "      <td>Belle Gunness</td>\n",
       "      <td>United States</td>\n",
       "      <td>1884–1908</td>\n",
       "      <td>14</td>\n",
       "      <td>40</td>\n",
       "      <td>Norwegian-born murder-for-profit killer who murdered her suitors and relatives in Indiana. High possibility of committing over 40 murders. May have faked her own death in the fire that destroyed her home in 1908; her children had died of strychnine poisoning before the fire, and the woman's body found next to them was decapitated and, reportedly, smaller than Gunness' own.[126] Ultimate fate unknown.</td>\n",
       "    </tr>\n",
       "    <tr>\n",
       "      <th>591</th>\n",
       "      <td>Belle Gunness</td>\n",
       "      <td>United States</td>\n",
       "      <td>1896?–1908?</td>\n",
       "      <td>Unconfirmed</td>\n",
       "      <td>21–42+</td>\n",
       "      <td>Murderer for profit who killed her relatives, employees and several suitors that she contacted through lonely hearts ads in Norwegian language newspapers of the Midwest, dismembering and burying most under a chicken coop in La Porte, Indiana. The 1900 strychnine poisoning of Gunness' first husband is often reported as her first murder, but the deaths of two of her children in 1896 and 1898 (who were insured) manifested similar symptoms. Reported dead, along with her three remaining children, in a fire that destroyed her farmhouse in 1908, even though the children's bodies contained strychnine and the woman's body found next to them was decapitated and smaller than Gunness'. Several people claimed to see her alive in the following years.[67]</td>\n",
       "    </tr>\n",
       "  </tbody>\n",
       "</table>\n",
       "</div>"
      ],
      "text/plain": [
       "              Name        Country Years active Proven victims  \\\n",
       "115  Belle Gunness  United States    1884–1908             14   \n",
       "591  Belle Gunness  United States  1896?–1908?    Unconfirmed   \n",
       "\n",
       "    Possible victims  \\\n",
       "115               40   \n",
       "591           21–42+   \n",
       "\n",
       "                                                                                                                                                                                                                                                                                                                                                                                                                                                                                                                                                                                                                                                                                                                                                                              Notes  \n",
       "115                                                                                                                                                                                                                                                                                                                                                             Norwegian-born murder-for-profit killer who murdered her suitors and relatives in Indiana. High possibility of committing over 40 murders. May have faked her own death in the fire that destroyed her home in 1908; her children had died of strychnine poisoning before the fire, and the woman's body found next to them was decapitated and, reportedly, smaller than Gunness' own.[126] Ultimate fate unknown.  \n",
       "591  Murderer for profit who killed her relatives, employees and several suitors that she contacted through lonely hearts ads in Norwegian language newspapers of the Midwest, dismembering and burying most under a chicken coop in La Porte, Indiana. The 1900 strychnine poisoning of Gunness' first husband is often reported as her first murder, but the deaths of two of her children in 1896 and 1898 (who were insured) manifested similar symptoms. Reported dead, along with her three remaining children, in a fire that destroyed her farmhouse in 1908, even though the children's bodies contained strychnine and the woman's body found next to them was decapitated and smaller than Gunness'. Several people claimed to see her alive in the following years.[67]  "
      ]
     },
     "execution_count": 100,
     "metadata": {},
     "output_type": "execute_result"
    }
   ],
   "source": [
    "df[df[\"Name\"]== \"Belle Gunness\"]"
   ]
  },
  {
   "cell_type": "code",
   "execution_count": 101,
   "metadata": {},
   "outputs": [],
   "source": [
    "df.drop(591, inplace=True)"
   ]
  },
  {
   "cell_type": "code",
   "execution_count": 102,
   "metadata": {},
   "outputs": [
    {
     "data": {
      "text/html": [
       "<div>\n",
       "<style scoped>\n",
       "    .dataframe tbody tr th:only-of-type {\n",
       "        vertical-align: middle;\n",
       "    }\n",
       "\n",
       "    .dataframe tbody tr th {\n",
       "        vertical-align: top;\n",
       "    }\n",
       "\n",
       "    .dataframe thead th {\n",
       "        text-align: right;\n",
       "    }\n",
       "</style>\n",
       "<table border=\"1\" class=\"dataframe\">\n",
       "  <thead>\n",
       "    <tr style=\"text-align: right;\">\n",
       "      <th></th>\n",
       "      <th>Name</th>\n",
       "      <th>Country</th>\n",
       "      <th>Years active</th>\n",
       "      <th>Proven victims</th>\n",
       "      <th>Possible victims</th>\n",
       "      <th>Notes</th>\n",
       "    </tr>\n",
       "  </thead>\n",
       "  <tbody>\n",
       "    <tr>\n",
       "      <th>105</th>\n",
       "      <td>Atlanta Ripper</td>\n",
       "      <td>United States</td>\n",
       "      <td>1911</td>\n",
       "      <td>15</td>\n",
       "      <td>21</td>\n",
       "      <td>Unidentified serial killer(s) who killed at least 15 Atlanta women in 1911, possibly as many as 21 in total.[117]</td>\n",
       "    </tr>\n",
       "    <tr>\n",
       "      <th>1315</th>\n",
       "      <td>Atlanta Ripper</td>\n",
       "      <td>United States</td>\n",
       "      <td>1911</td>\n",
       "      <td>15</td>\n",
       "      <td>15–21</td>\n",
       "      <td>Mystery murderer(s) of 15 Atlanta women in 1911</td>\n",
       "    </tr>\n",
       "  </tbody>\n",
       "</table>\n",
       "</div>"
      ],
      "text/plain": [
       "                Name        Country Years active Proven victims  \\\n",
       "105   Atlanta Ripper  United States         1911             15   \n",
       "1315  Atlanta Ripper  United States         1911             15   \n",
       "\n",
       "     Possible victims  \\\n",
       "105                21   \n",
       "1315            15–21   \n",
       "\n",
       "                                                                                                                  Notes  \n",
       "105   Unidentified serial killer(s) who killed at least 15 Atlanta women in 1911, possibly as many as 21 in total.[117]  \n",
       "1315                                                                    Mystery murderer(s) of 15 Atlanta women in 1911  "
      ]
     },
     "execution_count": 102,
     "metadata": {},
     "output_type": "execute_result"
    }
   ],
   "source": [
    "df[df[\"Name\"]== \"Atlanta Ripper\"]"
   ]
  },
  {
   "cell_type": "code",
   "execution_count": 103,
   "metadata": {},
   "outputs": [],
   "source": [
    "df.drop(1315, inplace=True)"
   ]
  },
  {
   "cell_type": "code",
   "execution_count": 104,
   "metadata": {},
   "outputs": [
    {
     "data": {
      "text/html": [
       "<div>\n",
       "<style scoped>\n",
       "    .dataframe tbody tr th:only-of-type {\n",
       "        vertical-align: middle;\n",
       "    }\n",
       "\n",
       "    .dataframe tbody tr th {\n",
       "        vertical-align: top;\n",
       "    }\n",
       "\n",
       "    .dataframe thead th {\n",
       "        text-align: right;\n",
       "    }\n",
       "</style>\n",
       "<table border=\"1\" class=\"dataframe\">\n",
       "  <thead>\n",
       "    <tr style=\"text-align: right;\">\n",
       "      <th></th>\n",
       "      <th>Name</th>\n",
       "      <th>Country</th>\n",
       "      <th>Years active</th>\n",
       "      <th>Proven victims</th>\n",
       "      <th>Possible victims</th>\n",
       "      <th>Notes</th>\n",
       "    </tr>\n",
       "  </thead>\n",
       "  <tbody>\n",
       "    <tr>\n",
       "      <th>227</th>\n",
       "      <td>Maryvale serial shooter</td>\n",
       "      <td>United States</td>\n",
       "      <td>2015–2016</td>\n",
       "      <td>9</td>\n",
       "      <td>11</td>\n",
       "      <td>Motorist who shot 12 people in separate events in Phoenix, Arizona, killing nine. Aaron Saucedo was charged with the shootings and two additional murders in 2017.[248]</td>\n",
       "    </tr>\n",
       "    <tr>\n",
       "      <th>1357</th>\n",
       "      <td>Maryvale serial shooter</td>\n",
       "      <td>United States</td>\n",
       "      <td>2015–2016</td>\n",
       "      <td>9</td>\n",
       "      <td>9</td>\n",
       "      <td>Attacked at night from a car using a handgun, killing seven people and injuring two between August 2015 and July 2016 in Phoenix, Arizona; Aaron Saucedo was arrested for all murders in 2017 and is awaiting trial</td>\n",
       "    </tr>\n",
       "  </tbody>\n",
       "</table>\n",
       "</div>"
      ],
      "text/plain": [
       "                         Name        Country Years active Proven victims  \\\n",
       "227   Maryvale serial shooter  United States    2015–2016              9   \n",
       "1357  Maryvale serial shooter  United States    2015–2016              9   \n",
       "\n",
       "     Possible victims  \\\n",
       "227                11   \n",
       "1357                9   \n",
       "\n",
       "                                                                                                                                                                                                                    Notes  \n",
       "227                                               Motorist who shot 12 people in separate events in Phoenix, Arizona, killing nine. Aaron Saucedo was charged with the shootings and two additional murders in 2017.[248]  \n",
       "1357  Attacked at night from a car using a handgun, killing seven people and injuring two between August 2015 and July 2016 in Phoenix, Arizona; Aaron Saucedo was arrested for all murders in 2017 and is awaiting trial  "
      ]
     },
     "execution_count": 104,
     "metadata": {},
     "output_type": "execute_result"
    }
   ],
   "source": [
    "df[df[\"Name\"]== \"Maryvale serial shooter\"]"
   ]
  },
  {
   "cell_type": "code",
   "execution_count": 105,
   "metadata": {},
   "outputs": [],
   "source": [
    "df.drop(1357, inplace=True)"
   ]
  },
  {
   "cell_type": "code",
   "execution_count": 106,
   "metadata": {},
   "outputs": [
    {
     "data": {
      "text/html": [
       "<div>\n",
       "<style scoped>\n",
       "    .dataframe tbody tr th:only-of-type {\n",
       "        vertical-align: middle;\n",
       "    }\n",
       "\n",
       "    .dataframe tbody tr th {\n",
       "        vertical-align: top;\n",
       "    }\n",
       "\n",
       "    .dataframe thead th {\n",
       "        text-align: right;\n",
       "    }\n",
       "</style>\n",
       "<table border=\"1\" class=\"dataframe\">\n",
       "  <thead>\n",
       "    <tr style=\"text-align: right;\">\n",
       "      <th></th>\n",
       "      <th>Name</th>\n",
       "      <th>Country</th>\n",
       "      <th>Years active</th>\n",
       "      <th>Proven victims</th>\n",
       "      <th>Possible victims</th>\n",
       "      <th>Notes</th>\n",
       "    </tr>\n",
       "  </thead>\n",
       "  <tbody>\n",
       "    <tr>\n",
       "      <th>132</th>\n",
       "      <td>Cleveland Torso Murderer</td>\n",
       "      <td>United States</td>\n",
       "      <td>1934–1938</td>\n",
       "      <td>13</td>\n",
       "      <td>40+</td>\n",
       "      <td>Unidentified serial killer, also known as \"The Mad Butcher of Kingsbury Run\", who targeted drifters and derelicts, of whom only two were identified, between 1934 and 1938 in Cleveland, Ohio.[144]</td>\n",
       "    </tr>\n",
       "    <tr>\n",
       "      <th>1326</th>\n",
       "      <td>Cleveland Torso Murderer</td>\n",
       "      <td>United States</td>\n",
       "      <td>1935–1938</td>\n",
       "      <td>12</td>\n",
       "      <td>40+</td>\n",
       "      <td>Also known as the \"Mad Butcher of Kingsbury Run\"; responsible for 12–13 murders in the Cleveland, Ohio area in the 1930s</td>\n",
       "    </tr>\n",
       "  </tbody>\n",
       "</table>\n",
       "</div>"
      ],
      "text/plain": [
       "                          Name        Country Years active Proven victims  \\\n",
       "132   Cleveland Torso Murderer  United States    1934–1938             13   \n",
       "1326  Cleveland Torso Murderer  United States    1935–1938             12   \n",
       "\n",
       "     Possible victims  \\\n",
       "132               40+   \n",
       "1326              40+   \n",
       "\n",
       "                                                                                                                                                                                                    Notes  \n",
       "132   Unidentified serial killer, also known as \"The Mad Butcher of Kingsbury Run\", who targeted drifters and derelicts, of whom only two were identified, between 1934 and 1938 in Cleveland, Ohio.[144]  \n",
       "1326                                                                             Also known as the \"Mad Butcher of Kingsbury Run\"; responsible for 12–13 murders in the Cleveland, Ohio area in the 1930s  "
      ]
     },
     "execution_count": 106,
     "metadata": {},
     "output_type": "execute_result"
    }
   ],
   "source": [
    "df[df[\"Name\"]== \"Cleveland Torso Murderer\"]"
   ]
  },
  {
   "cell_type": "code",
   "execution_count": 107,
   "metadata": {},
   "outputs": [],
   "source": [
    "df.drop(1326, inplace=True)"
   ]
  },
  {
   "cell_type": "code",
   "execution_count": 108,
   "metadata": {},
   "outputs": [
    {
     "data": {
      "text/plain": [
       "Name\n",
       "Unknown                                          14\n",
       "Luis Garavito                                     1\n",
       "Lewingdon, Thaddeus                               1\n",
       "Lee, Derrick Todd                                 1\n",
       "Laudenberg, Adolph                                1\n",
       "                                                 ..\n",
       "Thug Behram                                       1\n",
       "Samuel Frost                                      1\n",
       "Klaas Annink, Anne Spanjers and Jannes Annink     1\n",
       "Luísa de Jesus                                    1\n",
       "Mario Alberto Berrios Muñoz                       1\n",
       "Name: count, Length: 1501, dtype: int64"
      ]
     },
     "execution_count": 108,
     "metadata": {},
     "output_type": "execute_result"
    }
   ],
   "source": [
    "df[\"Name\"].value_counts()"
   ]
  },
  {
   "cell_type": "code",
   "execution_count": 109,
   "metadata": {},
   "outputs": [],
   "source": [
    "df = df[df['Name'] != 'Unknown']\n"
   ]
  },
  {
   "cell_type": "code",
   "execution_count": 110,
   "metadata": {},
   "outputs": [
    {
     "data": {
      "text/plain": [
       "Name\n",
       "Luis Garavito                                    1\n",
       "LaBarre, Sheila                                  1\n",
       "Lee, Derrick Todd                                1\n",
       "Laudenberg, Adolph                               1\n",
       "Lassor, Raymond                                  1\n",
       "                                                ..\n",
       "Samuel Frost                                     1\n",
       "Klaas Annink, Anne Spanjers and Jannes Annink    1\n",
       "Luísa de Jesus                                   1\n",
       "Crown Prince Sado                                1\n",
       "Mario Alberto Berrios Muñoz                      1\n",
       "Name: count, Length: 1500, dtype: int64"
      ]
     },
     "execution_count": 110,
     "metadata": {},
     "output_type": "execute_result"
    }
   ],
   "source": [
    "df[\"Name\"].value_counts()"
   ]
  },
  {
   "cell_type": "code",
   "execution_count": 111,
   "metadata": {},
   "outputs": [
    {
     "data": {
      "text/html": [
       "<div>\n",
       "<style scoped>\n",
       "    .dataframe tbody tr th:only-of-type {\n",
       "        vertical-align: middle;\n",
       "    }\n",
       "\n",
       "    .dataframe tbody tr th {\n",
       "        vertical-align: top;\n",
       "    }\n",
       "\n",
       "    .dataframe thead th {\n",
       "        text-align: right;\n",
       "    }\n",
       "</style>\n",
       "<table border=\"1\" class=\"dataframe\">\n",
       "  <thead>\n",
       "    <tr style=\"text-align: right;\">\n",
       "      <th></th>\n",
       "      <th>Name</th>\n",
       "      <th>Country</th>\n",
       "      <th>Years active</th>\n",
       "      <th>Proven victims</th>\n",
       "      <th>Possible victims</th>\n",
       "      <th>Notes</th>\n",
       "    </tr>\n",
       "  </thead>\n",
       "  <tbody>\n",
       "    <tr>\n",
       "      <th>0</th>\n",
       "      <td>Luis Garavito</td>\n",
       "      <td>Colombia  Ecuador[3]  Venezuela[3]</td>\n",
       "      <td>1992–1999[3]</td>\n",
       "      <td>193</td>\n",
       "      <td>193–300+</td>\n",
       "      <td>Child-murderer, torture-killer, and rapist known as \"La Bestia\" (\"The Beast\"). Garavito confessed to killing 140 boys between six and sixteen years old, from October 1992 to April 1999 in Colombia and neighboring countries.[3] He is suspected of murdering over 300 victims, mostly street children. Garavito was originally sentenced to 1,853 years in prison, but this was later reduced to 22 years, after he led police to many of the bodies of his victims.[4][5] He is scheduled to become eligible for parole in 2023.[6]</td>\n",
       "    </tr>\n",
       "    <tr>\n",
       "      <th>1</th>\n",
       "      <td>Pedro López</td>\n",
       "      <td>Colombia  Peru  Ecuador</td>\n",
       "      <td>1969–1980</td>\n",
       "      <td>110</td>\n",
       "      <td>300+</td>\n",
       "      <td>Child-murderer and rapist, known as \"The Monster of the Andes\". López targeted young girls, between the ages of eight and twelve. Arrested in 1980 and convicted in 1983 of killing three young girls, but claimed to have killed hundreds. Despite being believed to be one of the most prolific serial killers of the twentieth century, he was released in the late 1990s.[7]</td>\n",
       "    </tr>\n",
       "    <tr>\n",
       "      <th>2</th>\n",
       "      <td>Javed Iqbal</td>\n",
       "      <td>Pakistan</td>\n",
       "      <td>1998–1999</td>\n",
       "      <td>100</td>\n",
       "      <td>100</td>\n",
       "      <td>Child-murderer and rapist, known as \"Kukri\", Iqbal murdered exactly 100 street children by strangling them and covering up his crimes by dissolving the bodies with acid. He was arrested in December 1999 after sending a letter to a newspaper, and was set to be executed in the manner described by the judge who stated, \"You will be strangled to death in front of the parents whose children you killed, Your body will then be cut into 100 pieces and put in acid, the same way you killed the children.\"[8] However, he died in custody before he could be executed.[9]</td>\n",
       "    </tr>\n",
       "    <tr>\n",
       "      <th>3</th>\n",
       "      <td>Mikhail Popkov</td>\n",
       "      <td>Russia</td>\n",
       "      <td>1992–2010</td>\n",
       "      <td>78</td>\n",
       "      <td>83+</td>\n",
       "      <td>Serial rapist-killer nicknamed \"The Werewolf\", who was active for two decades in Angarsk, Irkutsk and Vladivostok. After being convicted of 22 murders in 2015, he confessed to an additional 59 murders, of which he was convicted of 56 in 2018.[10][11] In July 2020, Popkov confessed to more killings, bringing the total number of admitted victims to 83.[12] He was sentenced to life.</td>\n",
       "    </tr>\n",
       "    <tr>\n",
       "      <th>4</th>\n",
       "      <td>Daniel Camargo Barbosa</td>\n",
       "      <td>Colombia  Ecuador  Brazil (alleged)[13]</td>\n",
       "      <td>1974–1986</td>\n",
       "      <td>72</td>\n",
       "      <td>180[13]</td>\n",
       "      <td>Child and woman murderer, believed to have possibly raped and killed over 150 victims, primarily targeting female children, as they were more likely to be virgins. Confessed to killing 72 victims. He strangled young girls in Colombia and was arrested, but he escaped from prison, and started killing in Ecuador. He was rearrested in 1986, and was allegedly incarcerated in the same Ecuadorian prison as 300+ serial killer Pedro López.[citation needed] Camargo was killed in jail by the nephew of one of his victims.[13][14]</td>\n",
       "    </tr>\n",
       "  </tbody>\n",
       "</table>\n",
       "</div>"
      ],
      "text/plain": [
       "                     Name                                  Country  \\\n",
       "0           Luis Garavito       Colombia  Ecuador[3]  Venezuela[3]   \n",
       "1             Pedro López                  Colombia  Peru  Ecuador   \n",
       "2             Javed Iqbal                                 Pakistan   \n",
       "3          Mikhail Popkov                                   Russia   \n",
       "4  Daniel Camargo Barbosa  Colombia  Ecuador  Brazil (alleged)[13]   \n",
       "\n",
       "   Years active Proven victims Possible victims  \\\n",
       "0  1992–1999[3]            193         193–300+   \n",
       "1     1969–1980            110             300+   \n",
       "2     1998–1999            100              100   \n",
       "3     1992–2010             78              83+   \n",
       "4     1974–1986             72          180[13]   \n",
       "\n",
       "                                                                                                                                                                                                                                                                                                                                                                                                                                                                                                                                                                                Notes  \n",
       "0                                             Child-murderer, torture-killer, and rapist known as \"La Bestia\" (\"The Beast\"). Garavito confessed to killing 140 boys between six and sixteen years old, from October 1992 to April 1999 in Colombia and neighboring countries.[3] He is suspected of murdering over 300 victims, mostly street children. Garavito was originally sentenced to 1,853 years in prison, but this was later reduced to 22 years, after he led police to many of the bodies of his victims.[4][5] He is scheduled to become eligible for parole in 2023.[6]  \n",
       "1                                                                                                                                                                                                    Child-murderer and rapist, known as \"The Monster of the Andes\". López targeted young girls, between the ages of eight and twelve. Arrested in 1980 and convicted in 1983 of killing three young girls, but claimed to have killed hundreds. Despite being believed to be one of the most prolific serial killers of the twentieth century, he was released in the late 1990s.[7]  \n",
       "2  Child-murderer and rapist, known as \"Kukri\", Iqbal murdered exactly 100 street children by strangling them and covering up his crimes by dissolving the bodies with acid. He was arrested in December 1999 after sending a letter to a newspaper, and was set to be executed in the manner described by the judge who stated, \"You will be strangled to death in front of the parents whose children you killed, Your body will then be cut into 100 pieces and put in acid, the same way you killed the children.\"[8] However, he died in custody before he could be executed.[9]  \n",
       "3                                                                                                                                                                                      Serial rapist-killer nicknamed \"The Werewolf\", who was active for two decades in Angarsk, Irkutsk and Vladivostok. After being convicted of 22 murders in 2015, he confessed to an additional 59 murders, of which he was convicted of 56 in 2018.[10][11] In July 2020, Popkov confessed to more killings, bringing the total number of admitted victims to 83.[12] He was sentenced to life.  \n",
       "4                                         Child and woman murderer, believed to have possibly raped and killed over 150 victims, primarily targeting female children, as they were more likely to be virgins. Confessed to killing 72 victims. He strangled young girls in Colombia and was arrested, but he escaped from prison, and started killing in Ecuador. He was rearrested in 1986, and was allegedly incarcerated in the same Ecuadorian prison as 300+ serial killer Pedro López.[citation needed] Camargo was killed in jail by the nephew of one of his victims.[13][14]  "
      ]
     },
     "execution_count": 111,
     "metadata": {},
     "output_type": "execute_result"
    }
   ],
   "source": [
    "df.head()"
   ]
  },
  {
   "cell_type": "code",
   "execution_count": 112,
   "metadata": {},
   "outputs": [
    {
     "data": {
      "text/plain": [
       "0       1992–1999[3]\n",
       "1          1969–1980\n",
       "2          1998–1999\n",
       "3          1992–2010\n",
       "4          1974–1986\n",
       "            ...     \n",
       "1515       2000–2021\n",
       "1516       2003–2022\n",
       "1517            2022\n",
       "1518       1986–2022\n",
       "1519       2021–2023\n",
       "Name: Years active, Length: 1500, dtype: object"
      ]
     },
     "execution_count": 112,
     "metadata": {},
     "output_type": "execute_result"
    }
   ],
   "source": [
    "df[\"Years active\"]"
   ]
  },
  {
   "cell_type": "code",
   "execution_count": 113,
   "metadata": {},
   "outputs": [
    {
     "name": "stderr",
     "output_type": "stream",
     "text": [
      "C:\\Users\\irene\\AppData\\Local\\Temp\\ipykernel_13672\\3279603789.py:1: SettingWithCopyWarning: \n",
      "A value is trying to be set on a copy of a slice from a DataFrame.\n",
      "Try using .loc[row_indexer,col_indexer] = value instead\n",
      "\n",
      "See the caveats in the documentation: https://pandas.pydata.org/pandas-docs/stable/user_guide/indexing.html#returning-a-view-versus-a-copy\n",
      "  df['Start year'] = df['Years active'].str.split(\"–\").str[0]\n"
     ]
    }
   ],
   "source": [
    "df['Start year'] = df['Years active'].str.split(\"–\").str[0]"
   ]
  },
  {
   "cell_type": "code",
   "execution_count": 114,
   "metadata": {},
   "outputs": [
    {
     "name": "stderr",
     "output_type": "stream",
     "text": [
      "C:\\Users\\irene\\AppData\\Local\\Temp\\ipykernel_13672\\958662957.py:1: SettingWithCopyWarning: \n",
      "A value is trying to be set on a copy of a slice from a DataFrame.\n",
      "Try using .loc[row_indexer,col_indexer] = value instead\n",
      "\n",
      "See the caveats in the documentation: https://pandas.pydata.org/pandas-docs/stable/user_guide/indexing.html#returning-a-view-versus-a-copy\n",
      "  df['End year'] = df['Years active'].str.split(\"–\").str[1]\n"
     ]
    }
   ],
   "source": [
    "df['End year'] = df['Years active'].str.split(\"–\").str[1]"
   ]
  },
  {
   "cell_type": "code",
   "execution_count": 115,
   "metadata": {},
   "outputs": [
    {
     "data": {
      "text/html": [
       "<div>\n",
       "<style scoped>\n",
       "    .dataframe tbody tr th:only-of-type {\n",
       "        vertical-align: middle;\n",
       "    }\n",
       "\n",
       "    .dataframe tbody tr th {\n",
       "        vertical-align: top;\n",
       "    }\n",
       "\n",
       "    .dataframe thead th {\n",
       "        text-align: right;\n",
       "    }\n",
       "</style>\n",
       "<table border=\"1\" class=\"dataframe\">\n",
       "  <thead>\n",
       "    <tr style=\"text-align: right;\">\n",
       "      <th></th>\n",
       "      <th>Name</th>\n",
       "      <th>Country</th>\n",
       "      <th>Years active</th>\n",
       "      <th>Proven victims</th>\n",
       "      <th>Possible victims</th>\n",
       "      <th>Notes</th>\n",
       "      <th>Start year</th>\n",
       "      <th>End year</th>\n",
       "    </tr>\n",
       "  </thead>\n",
       "  <tbody>\n",
       "    <tr>\n",
       "      <th>0</th>\n",
       "      <td>Luis Garavito</td>\n",
       "      <td>Colombia  Ecuador[3]  Venezuela[3]</td>\n",
       "      <td>1992–1999[3]</td>\n",
       "      <td>193</td>\n",
       "      <td>193–300+</td>\n",
       "      <td>Child-murderer, torture-killer, and rapist known as \"La Bestia\" (\"The Beast\"). Garavito confessed to killing 140 boys between six and sixteen years old, from October 1992 to April 1999 in Colombia and neighboring countries.[3] He is suspected of murdering over 300 victims, mostly street children. Garavito was originally sentenced to 1,853 years in prison, but this was later reduced to 22 years, after he led police to many of the bodies of his victims.[4][5] He is scheduled to become eligible for parole in 2023.[6]</td>\n",
       "      <td>1992</td>\n",
       "      <td>1999[3]</td>\n",
       "    </tr>\n",
       "    <tr>\n",
       "      <th>1</th>\n",
       "      <td>Pedro López</td>\n",
       "      <td>Colombia  Peru  Ecuador</td>\n",
       "      <td>1969–1980</td>\n",
       "      <td>110</td>\n",
       "      <td>300+</td>\n",
       "      <td>Child-murderer and rapist, known as \"The Monster of the Andes\". López targeted young girls, between the ages of eight and twelve. Arrested in 1980 and convicted in 1983 of killing three young girls, but claimed to have killed hundreds. Despite being believed to be one of the most prolific serial killers of the twentieth century, he was released in the late 1990s.[7]</td>\n",
       "      <td>1969</td>\n",
       "      <td>1980</td>\n",
       "    </tr>\n",
       "    <tr>\n",
       "      <th>2</th>\n",
       "      <td>Javed Iqbal</td>\n",
       "      <td>Pakistan</td>\n",
       "      <td>1998–1999</td>\n",
       "      <td>100</td>\n",
       "      <td>100</td>\n",
       "      <td>Child-murderer and rapist, known as \"Kukri\", Iqbal murdered exactly 100 street children by strangling them and covering up his crimes by dissolving the bodies with acid. He was arrested in December 1999 after sending a letter to a newspaper, and was set to be executed in the manner described by the judge who stated, \"You will be strangled to death in front of the parents whose children you killed, Your body will then be cut into 100 pieces and put in acid, the same way you killed the children.\"[8] However, he died in custody before he could be executed.[9]</td>\n",
       "      <td>1998</td>\n",
       "      <td>1999</td>\n",
       "    </tr>\n",
       "    <tr>\n",
       "      <th>3</th>\n",
       "      <td>Mikhail Popkov</td>\n",
       "      <td>Russia</td>\n",
       "      <td>1992–2010</td>\n",
       "      <td>78</td>\n",
       "      <td>83+</td>\n",
       "      <td>Serial rapist-killer nicknamed \"The Werewolf\", who was active for two decades in Angarsk, Irkutsk and Vladivostok. After being convicted of 22 murders in 2015, he confessed to an additional 59 murders, of which he was convicted of 56 in 2018.[10][11] In July 2020, Popkov confessed to more killings, bringing the total number of admitted victims to 83.[12] He was sentenced to life.</td>\n",
       "      <td>1992</td>\n",
       "      <td>2010</td>\n",
       "    </tr>\n",
       "    <tr>\n",
       "      <th>4</th>\n",
       "      <td>Daniel Camargo Barbosa</td>\n",
       "      <td>Colombia  Ecuador  Brazil (alleged)[13]</td>\n",
       "      <td>1974–1986</td>\n",
       "      <td>72</td>\n",
       "      <td>180[13]</td>\n",
       "      <td>Child and woman murderer, believed to have possibly raped and killed over 150 victims, primarily targeting female children, as they were more likely to be virgins. Confessed to killing 72 victims. He strangled young girls in Colombia and was arrested, but he escaped from prison, and started killing in Ecuador. He was rearrested in 1986, and was allegedly incarcerated in the same Ecuadorian prison as 300+ serial killer Pedro López.[citation needed] Camargo was killed in jail by the nephew of one of his victims.[13][14]</td>\n",
       "      <td>1974</td>\n",
       "      <td>1986</td>\n",
       "    </tr>\n",
       "  </tbody>\n",
       "</table>\n",
       "</div>"
      ],
      "text/plain": [
       "                     Name                                  Country  \\\n",
       "0           Luis Garavito       Colombia  Ecuador[3]  Venezuela[3]   \n",
       "1             Pedro López                  Colombia  Peru  Ecuador   \n",
       "2             Javed Iqbal                                 Pakistan   \n",
       "3          Mikhail Popkov                                   Russia   \n",
       "4  Daniel Camargo Barbosa  Colombia  Ecuador  Brazil (alleged)[13]   \n",
       "\n",
       "   Years active Proven victims Possible victims  \\\n",
       "0  1992–1999[3]            193         193–300+   \n",
       "1     1969–1980            110             300+   \n",
       "2     1998–1999            100              100   \n",
       "3     1992–2010             78              83+   \n",
       "4     1974–1986             72          180[13]   \n",
       "\n",
       "                                                                                                                                                                                                                                                                                                                                                                                                                                                                                                                                                                                Notes  \\\n",
       "0                                             Child-murderer, torture-killer, and rapist known as \"La Bestia\" (\"The Beast\"). Garavito confessed to killing 140 boys between six and sixteen years old, from October 1992 to April 1999 in Colombia and neighboring countries.[3] He is suspected of murdering over 300 victims, mostly street children. Garavito was originally sentenced to 1,853 years in prison, but this was later reduced to 22 years, after he led police to many of the bodies of his victims.[4][5] He is scheduled to become eligible for parole in 2023.[6]   \n",
       "1                                                                                                                                                                                                    Child-murderer and rapist, known as \"The Monster of the Andes\". López targeted young girls, between the ages of eight and twelve. Arrested in 1980 and convicted in 1983 of killing three young girls, but claimed to have killed hundreds. Despite being believed to be one of the most prolific serial killers of the twentieth century, he was released in the late 1990s.[7]   \n",
       "2  Child-murderer and rapist, known as \"Kukri\", Iqbal murdered exactly 100 street children by strangling them and covering up his crimes by dissolving the bodies with acid. He was arrested in December 1999 after sending a letter to a newspaper, and was set to be executed in the manner described by the judge who stated, \"You will be strangled to death in front of the parents whose children you killed, Your body will then be cut into 100 pieces and put in acid, the same way you killed the children.\"[8] However, he died in custody before he could be executed.[9]   \n",
       "3                                                                                                                                                                                      Serial rapist-killer nicknamed \"The Werewolf\", who was active for two decades in Angarsk, Irkutsk and Vladivostok. After being convicted of 22 murders in 2015, he confessed to an additional 59 murders, of which he was convicted of 56 in 2018.[10][11] In July 2020, Popkov confessed to more killings, bringing the total number of admitted victims to 83.[12] He was sentenced to life.   \n",
       "4                                         Child and woman murderer, believed to have possibly raped and killed over 150 victims, primarily targeting female children, as they were more likely to be virgins. Confessed to killing 72 victims. He strangled young girls in Colombia and was arrested, but he escaped from prison, and started killing in Ecuador. He was rearrested in 1986, and was allegedly incarcerated in the same Ecuadorian prison as 300+ serial killer Pedro López.[citation needed] Camargo was killed in jail by the nephew of one of his victims.[13][14]   \n",
       "\n",
       "  Start year End year  \n",
       "0       1992  1999[3]  \n",
       "1       1969     1980  \n",
       "2       1998     1999  \n",
       "3       1992     2010  \n",
       "4       1974     1986  "
      ]
     },
     "execution_count": 115,
     "metadata": {},
     "output_type": "execute_result"
    }
   ],
   "source": [
    "df.head()"
   ]
  },
  {
   "cell_type": "code",
   "execution_count": 116,
   "metadata": {},
   "outputs": [
    {
     "data": {
      "text/plain": [
       "Start year\n",
       "1986                50\n",
       "1980                37\n",
       "1977                35\n",
       "1978                34\n",
       "1974                34\n",
       "                    ..\n",
       "1760s                1\n",
       "1761 and earlier     1\n",
       "1755                 1\n",
       "1757                 1\n",
       "1906                 1\n",
       "Name: count, Length: 266, dtype: int64"
      ]
     },
     "execution_count": 116,
     "metadata": {},
     "output_type": "execute_result"
    }
   ],
   "source": [
    "df[\"Start year\"].value_counts()"
   ]
  },
  {
   "cell_type": "code",
   "execution_count": 117,
   "metadata": {},
   "outputs": [
    {
     "data": {
      "text/plain": [
       "366"
      ]
     },
     "execution_count": 117,
     "metadata": {},
     "output_type": "execute_result"
    }
   ],
   "source": [
    "df[\"End year\"].isnull().sum()"
   ]
  },
  {
   "cell_type": "code",
   "execution_count": 118,
   "metadata": {},
   "outputs": [],
   "source": [
    "df = df.drop(columns=[\"Years active\"])"
   ]
  },
  {
   "cell_type": "code",
   "execution_count": 119,
   "metadata": {},
   "outputs": [
    {
     "data": {
      "text/html": [
       "<div>\n",
       "<style scoped>\n",
       "    .dataframe tbody tr th:only-of-type {\n",
       "        vertical-align: middle;\n",
       "    }\n",
       "\n",
       "    .dataframe tbody tr th {\n",
       "        vertical-align: top;\n",
       "    }\n",
       "\n",
       "    .dataframe thead th {\n",
       "        text-align: right;\n",
       "    }\n",
       "</style>\n",
       "<table border=\"1\" class=\"dataframe\">\n",
       "  <thead>\n",
       "    <tr style=\"text-align: right;\">\n",
       "      <th></th>\n",
       "      <th>Name</th>\n",
       "      <th>Country</th>\n",
       "      <th>Proven victims</th>\n",
       "      <th>Possible victims</th>\n",
       "      <th>Notes</th>\n",
       "      <th>Start year</th>\n",
       "      <th>End year</th>\n",
       "    </tr>\n",
       "  </thead>\n",
       "  <tbody>\n",
       "    <tr>\n",
       "      <th>0</th>\n",
       "      <td>Luis Garavito</td>\n",
       "      <td>Colombia  Ecuador[3]  Venezuela[3]</td>\n",
       "      <td>193</td>\n",
       "      <td>193–300+</td>\n",
       "      <td>Child-murderer, torture-killer, and rapist known as \"La Bestia\" (\"The Beast\"). Garavito confessed to killing 140 boys between six and sixteen years old, from October 1992 to April 1999 in Colombia and neighboring countries.[3] He is suspected of murdering over 300 victims, mostly street children. Garavito was originally sentenced to 1,853 years in prison, but this was later reduced to 22 years, after he led police to many of the bodies of his victims.[4][5] He is scheduled to become eligible for parole in 2023.[6]</td>\n",
       "      <td>1992</td>\n",
       "      <td>1999[3]</td>\n",
       "    </tr>\n",
       "    <tr>\n",
       "      <th>1</th>\n",
       "      <td>Pedro López</td>\n",
       "      <td>Colombia  Peru  Ecuador</td>\n",
       "      <td>110</td>\n",
       "      <td>300+</td>\n",
       "      <td>Child-murderer and rapist, known as \"The Monster of the Andes\". López targeted young girls, between the ages of eight and twelve. Arrested in 1980 and convicted in 1983 of killing three young girls, but claimed to have killed hundreds. Despite being believed to be one of the most prolific serial killers of the twentieth century, he was released in the late 1990s.[7]</td>\n",
       "      <td>1969</td>\n",
       "      <td>1980</td>\n",
       "    </tr>\n",
       "    <tr>\n",
       "      <th>2</th>\n",
       "      <td>Javed Iqbal</td>\n",
       "      <td>Pakistan</td>\n",
       "      <td>100</td>\n",
       "      <td>100</td>\n",
       "      <td>Child-murderer and rapist, known as \"Kukri\", Iqbal murdered exactly 100 street children by strangling them and covering up his crimes by dissolving the bodies with acid. He was arrested in December 1999 after sending a letter to a newspaper, and was set to be executed in the manner described by the judge who stated, \"You will be strangled to death in front of the parents whose children you killed, Your body will then be cut into 100 pieces and put in acid, the same way you killed the children.\"[8] However, he died in custody before he could be executed.[9]</td>\n",
       "      <td>1998</td>\n",
       "      <td>1999</td>\n",
       "    </tr>\n",
       "    <tr>\n",
       "      <th>3</th>\n",
       "      <td>Mikhail Popkov</td>\n",
       "      <td>Russia</td>\n",
       "      <td>78</td>\n",
       "      <td>83+</td>\n",
       "      <td>Serial rapist-killer nicknamed \"The Werewolf\", who was active for two decades in Angarsk, Irkutsk and Vladivostok. After being convicted of 22 murders in 2015, he confessed to an additional 59 murders, of which he was convicted of 56 in 2018.[10][11] In July 2020, Popkov confessed to more killings, bringing the total number of admitted victims to 83.[12] He was sentenced to life.</td>\n",
       "      <td>1992</td>\n",
       "      <td>2010</td>\n",
       "    </tr>\n",
       "    <tr>\n",
       "      <th>4</th>\n",
       "      <td>Daniel Camargo Barbosa</td>\n",
       "      <td>Colombia  Ecuador  Brazil (alleged)[13]</td>\n",
       "      <td>72</td>\n",
       "      <td>180[13]</td>\n",
       "      <td>Child and woman murderer, believed to have possibly raped and killed over 150 victims, primarily targeting female children, as they were more likely to be virgins. Confessed to killing 72 victims. He strangled young girls in Colombia and was arrested, but he escaped from prison, and started killing in Ecuador. He was rearrested in 1986, and was allegedly incarcerated in the same Ecuadorian prison as 300+ serial killer Pedro López.[citation needed] Camargo was killed in jail by the nephew of one of his victims.[13][14]</td>\n",
       "      <td>1974</td>\n",
       "      <td>1986</td>\n",
       "    </tr>\n",
       "  </tbody>\n",
       "</table>\n",
       "</div>"
      ],
      "text/plain": [
       "                     Name                                  Country  \\\n",
       "0           Luis Garavito       Colombia  Ecuador[3]  Venezuela[3]   \n",
       "1             Pedro López                  Colombia  Peru  Ecuador   \n",
       "2             Javed Iqbal                                 Pakistan   \n",
       "3          Mikhail Popkov                                   Russia   \n",
       "4  Daniel Camargo Barbosa  Colombia  Ecuador  Brazil (alleged)[13]   \n",
       "\n",
       "  Proven victims Possible victims  \\\n",
       "0            193         193–300+   \n",
       "1            110             300+   \n",
       "2            100              100   \n",
       "3             78              83+   \n",
       "4             72          180[13]   \n",
       "\n",
       "                                                                                                                                                                                                                                                                                                                                                                                                                                                                                                                                                                                Notes  \\\n",
       "0                                             Child-murderer, torture-killer, and rapist known as \"La Bestia\" (\"The Beast\"). Garavito confessed to killing 140 boys between six and sixteen years old, from October 1992 to April 1999 in Colombia and neighboring countries.[3] He is suspected of murdering over 300 victims, mostly street children. Garavito was originally sentenced to 1,853 years in prison, but this was later reduced to 22 years, after he led police to many of the bodies of his victims.[4][5] He is scheduled to become eligible for parole in 2023.[6]   \n",
       "1                                                                                                                                                                                                    Child-murderer and rapist, known as \"The Monster of the Andes\". López targeted young girls, between the ages of eight and twelve. Arrested in 1980 and convicted in 1983 of killing three young girls, but claimed to have killed hundreds. Despite being believed to be one of the most prolific serial killers of the twentieth century, he was released in the late 1990s.[7]   \n",
       "2  Child-murderer and rapist, known as \"Kukri\", Iqbal murdered exactly 100 street children by strangling them and covering up his crimes by dissolving the bodies with acid. He was arrested in December 1999 after sending a letter to a newspaper, and was set to be executed in the manner described by the judge who stated, \"You will be strangled to death in front of the parents whose children you killed, Your body will then be cut into 100 pieces and put in acid, the same way you killed the children.\"[8] However, he died in custody before he could be executed.[9]   \n",
       "3                                                                                                                                                                                      Serial rapist-killer nicknamed \"The Werewolf\", who was active for two decades in Angarsk, Irkutsk and Vladivostok. After being convicted of 22 murders in 2015, he confessed to an additional 59 murders, of which he was convicted of 56 in 2018.[10][11] In July 2020, Popkov confessed to more killings, bringing the total number of admitted victims to 83.[12] He was sentenced to life.   \n",
       "4                                         Child and woman murderer, believed to have possibly raped and killed over 150 victims, primarily targeting female children, as they were more likely to be virgins. Confessed to killing 72 victims. He strangled young girls in Colombia and was arrested, but he escaped from prison, and started killing in Ecuador. He was rearrested in 1986, and was allegedly incarcerated in the same Ecuadorian prison as 300+ serial killer Pedro López.[citation needed] Camargo was killed in jail by the nephew of one of his victims.[13][14]   \n",
       "\n",
       "  Start year End year  \n",
       "0       1992  1999[3]  \n",
       "1       1969     1980  \n",
       "2       1998     1999  \n",
       "3       1992     2010  \n",
       "4       1974     1986  "
      ]
     },
     "execution_count": 119,
     "metadata": {},
     "output_type": "execute_result"
    }
   ],
   "source": [
    "df.head()"
   ]
  },
  {
   "cell_type": "code",
   "execution_count": 120,
   "metadata": {},
   "outputs": [],
   "source": [
    "# Usar .str.replace() para quitar los corchetes y el número dentro de ellos\n",
    "df[\"End year\"] = df[\"End year\"].str.replace(r'\\[\\d+\\]', '', regex=True)"
   ]
  },
  {
   "cell_type": "code",
   "execution_count": 121,
   "metadata": {},
   "outputs": [],
   "source": [
    "df[\"Possible victims\"] = df[\"Possible victims\"].str.replace(r'\\[\\d+\\]', '', regex=True)"
   ]
  },
  {
   "cell_type": "code",
   "execution_count": 122,
   "metadata": {},
   "outputs": [],
   "source": [
    "df[\"Notes\"] = df[\"Notes\"].str.replace(r'\\[\\d+\\]', '', regex=True)"
   ]
  },
  {
   "cell_type": "code",
   "execution_count": 123,
   "metadata": {},
   "outputs": [],
   "source": [
    "df[\"Country\"] = df[\"Country\"].str.replace(r'\\[\\d+\\]', '', regex=True)"
   ]
  },
  {
   "cell_type": "code",
   "execution_count": 124,
   "metadata": {},
   "outputs": [],
   "source": [
    "df[\"Name\"] = df[\"Name\"].str.replace(r'\\[\\d+\\]', '', regex=True)"
   ]
  },
  {
   "cell_type": "code",
   "execution_count": 125,
   "metadata": {},
   "outputs": [],
   "source": [
    "df[\"Proven victims\"] = df[\"Proven victims\"].str.replace(r'\\[\\d+\\]', '', regex=True)"
   ]
  },
  {
   "cell_type": "code",
   "execution_count": 126,
   "metadata": {},
   "outputs": [],
   "source": [
    "df[\"Start year\"] = df[\"Start year\"].str.replace(r'\\[\\d+\\]', '', regex=True)"
   ]
  },
  {
   "cell_type": "code",
   "execution_count": 127,
   "metadata": {},
   "outputs": [],
   "source": [
    "def extraer(cadena):\n",
    "    partes = cadena.split(\"–\")\n",
    "    if len(partes) > 1:\n",
    "        return partes[1]\n",
    "    else:\n",
    "        return partes[0]"
   ]
  },
  {
   "cell_type": "code",
   "execution_count": 128,
   "metadata": {},
   "outputs": [],
   "source": [
    "df[\"Possible victims\"] = df[\"Possible victims\"].apply(extraer)"
   ]
  },
  {
   "cell_type": "code",
   "execution_count": 129,
   "metadata": {},
   "outputs": [
    {
     "data": {
      "text/html": [
       "<div>\n",
       "<style scoped>\n",
       "    .dataframe tbody tr th:only-of-type {\n",
       "        vertical-align: middle;\n",
       "    }\n",
       "\n",
       "    .dataframe tbody tr th {\n",
       "        vertical-align: top;\n",
       "    }\n",
       "\n",
       "    .dataframe thead th {\n",
       "        text-align: right;\n",
       "    }\n",
       "</style>\n",
       "<table border=\"1\" class=\"dataframe\">\n",
       "  <thead>\n",
       "    <tr style=\"text-align: right;\">\n",
       "      <th></th>\n",
       "      <th>Name</th>\n",
       "      <th>Country</th>\n",
       "      <th>Proven victims</th>\n",
       "      <th>Possible victims</th>\n",
       "      <th>Notes</th>\n",
       "      <th>Start year</th>\n",
       "      <th>End year</th>\n",
       "    </tr>\n",
       "  </thead>\n",
       "  <tbody>\n",
       "    <tr>\n",
       "      <th>0</th>\n",
       "      <td>Luis Garavito</td>\n",
       "      <td>Colombia  Ecuador  Venezuela</td>\n",
       "      <td>193</td>\n",
       "      <td>300+</td>\n",
       "      <td>Child-murderer, torture-killer, and rapist known as \"La Bestia\" (\"The Beast\"). Garavito confessed to killing 140 boys between six and sixteen years old, from October 1992 to April 1999 in Colombia and neighboring countries. He is suspected of murdering over 300 victims, mostly street children. Garavito was originally sentenced to 1,853 years in prison, but this was later reduced to 22 years, after he led police to many of the bodies of his victims. He is scheduled to become eligible for parole in 2023.</td>\n",
       "      <td>1992</td>\n",
       "      <td>1999</td>\n",
       "    </tr>\n",
       "    <tr>\n",
       "      <th>1</th>\n",
       "      <td>Pedro López</td>\n",
       "      <td>Colombia  Peru  Ecuador</td>\n",
       "      <td>110</td>\n",
       "      <td>300+</td>\n",
       "      <td>Child-murderer and rapist, known as \"The Monster of the Andes\". López targeted young girls, between the ages of eight and twelve. Arrested in 1980 and convicted in 1983 of killing three young girls, but claimed to have killed hundreds. Despite being believed to be one of the most prolific serial killers of the twentieth century, he was released in the late 1990s.</td>\n",
       "      <td>1969</td>\n",
       "      <td>1980</td>\n",
       "    </tr>\n",
       "    <tr>\n",
       "      <th>2</th>\n",
       "      <td>Javed Iqbal</td>\n",
       "      <td>Pakistan</td>\n",
       "      <td>100</td>\n",
       "      <td>100</td>\n",
       "      <td>Child-murderer and rapist, known as \"Kukri\", Iqbal murdered exactly 100 street children by strangling them and covering up his crimes by dissolving the bodies with acid. He was arrested in December 1999 after sending a letter to a newspaper, and was set to be executed in the manner described by the judge who stated, \"You will be strangled to death in front of the parents whose children you killed, Your body will then be cut into 100 pieces and put in acid, the same way you killed the children.\" However, he died in custody before he could be executed.</td>\n",
       "      <td>1998</td>\n",
       "      <td>1999</td>\n",
       "    </tr>\n",
       "    <tr>\n",
       "      <th>3</th>\n",
       "      <td>Mikhail Popkov</td>\n",
       "      <td>Russia</td>\n",
       "      <td>78</td>\n",
       "      <td>83+</td>\n",
       "      <td>Serial rapist-killer nicknamed \"The Werewolf\", who was active for two decades in Angarsk, Irkutsk and Vladivostok. After being convicted of 22 murders in 2015, he confessed to an additional 59 murders, of which he was convicted of 56 in 2018. In July 2020, Popkov confessed to more killings, bringing the total number of admitted victims to 83. He was sentenced to life.</td>\n",
       "      <td>1992</td>\n",
       "      <td>2010</td>\n",
       "    </tr>\n",
       "    <tr>\n",
       "      <th>4</th>\n",
       "      <td>Daniel Camargo Barbosa</td>\n",
       "      <td>Colombia  Ecuador  Brazil (alleged)</td>\n",
       "      <td>72</td>\n",
       "      <td>180</td>\n",
       "      <td>Child and woman murderer, believed to have possibly raped and killed over 150 victims, primarily targeting female children, as they were more likely to be virgins. Confessed to killing 72 victims. He strangled young girls in Colombia and was arrested, but he escaped from prison, and started killing in Ecuador. He was rearrested in 1986, and was allegedly incarcerated in the same Ecuadorian prison as 300+ serial killer Pedro López.[citation needed] Camargo was killed in jail by the nephew of one of his victims.</td>\n",
       "      <td>1974</td>\n",
       "      <td>1986</td>\n",
       "    </tr>\n",
       "  </tbody>\n",
       "</table>\n",
       "</div>"
      ],
      "text/plain": [
       "                     Name                              Country Proven victims  \\\n",
       "0           Luis Garavito         Colombia  Ecuador  Venezuela            193   \n",
       "1             Pedro López              Colombia  Peru  Ecuador            110   \n",
       "2             Javed Iqbal                             Pakistan            100   \n",
       "3          Mikhail Popkov                               Russia             78   \n",
       "4  Daniel Camargo Barbosa  Colombia  Ecuador  Brazil (alleged)             72   \n",
       "\n",
       "  Possible victims  \\\n",
       "0             300+   \n",
       "1             300+   \n",
       "2              100   \n",
       "3              83+   \n",
       "4              180   \n",
       "\n",
       "                                                                                                                                                                                                                                                                                                                                                                                                                                                                                                                                                                          Notes  \\\n",
       "0                                                   Child-murderer, torture-killer, and rapist known as \"La Bestia\" (\"The Beast\"). Garavito confessed to killing 140 boys between six and sixteen years old, from October 1992 to April 1999 in Colombia and neighboring countries. He is suspected of murdering over 300 victims, mostly street children. Garavito was originally sentenced to 1,853 years in prison, but this was later reduced to 22 years, after he led police to many of the bodies of his victims. He is scheduled to become eligible for parole in 2023.   \n",
       "1                                                                                                                                                                                                 Child-murderer and rapist, known as \"The Monster of the Andes\". López targeted young girls, between the ages of eight and twelve. Arrested in 1980 and convicted in 1983 of killing three young girls, but claimed to have killed hundreds. Despite being believed to be one of the most prolific serial killers of the twentieth century, he was released in the late 1990s.   \n",
       "2  Child-murderer and rapist, known as \"Kukri\", Iqbal murdered exactly 100 street children by strangling them and covering up his crimes by dissolving the bodies with acid. He was arrested in December 1999 after sending a letter to a newspaper, and was set to be executed in the manner described by the judge who stated, \"You will be strangled to death in front of the parents whose children you killed, Your body will then be cut into 100 pieces and put in acid, the same way you killed the children.\" However, he died in custody before he could be executed.   \n",
       "3                                                                                                                                                                                            Serial rapist-killer nicknamed \"The Werewolf\", who was active for two decades in Angarsk, Irkutsk and Vladivostok. After being convicted of 22 murders in 2015, he confessed to an additional 59 murders, of which he was convicted of 56 in 2018. In July 2020, Popkov confessed to more killings, bringing the total number of admitted victims to 83. He was sentenced to life.   \n",
       "4                                           Child and woman murderer, believed to have possibly raped and killed over 150 victims, primarily targeting female children, as they were more likely to be virgins. Confessed to killing 72 victims. He strangled young girls in Colombia and was arrested, but he escaped from prison, and started killing in Ecuador. He was rearrested in 1986, and was allegedly incarcerated in the same Ecuadorian prison as 300+ serial killer Pedro López.[citation needed] Camargo was killed in jail by the nephew of one of his victims.   \n",
       "\n",
       "  Start year End year  \n",
       "0       1992     1999  \n",
       "1       1969     1980  \n",
       "2       1998     1999  \n",
       "3       1992     2010  \n",
       "4       1974     1986  "
      ]
     },
     "execution_count": 129,
     "metadata": {},
     "output_type": "execute_result"
    }
   ],
   "source": [
    "df.head()"
   ]
  },
  {
   "cell_type": "code",
   "execution_count": 130,
   "metadata": {},
   "outputs": [],
   "source": [
    "df[\"Country\"] = df[\"Country\"].str.split(\" \")"
   ]
  },
  {
   "cell_type": "code",
   "execution_count": 131,
   "metadata": {},
   "outputs": [],
   "source": [
    "df[\"Country\"] = df[\"Country\"].str[0]\n"
   ]
  },
  {
   "cell_type": "code",
   "execution_count": 132,
   "metadata": {},
   "outputs": [],
   "source": [
    "df[\"End year\"] = df[\"End year\"].fillna(\"Unknown\")"
   ]
  },
  {
   "cell_type": "code",
   "execution_count": 133,
   "metadata": {},
   "outputs": [],
   "source": [
    "df[\"Nickname\"] = df[\"Notes\"].str.extract(r'\"(.*?)\"')"
   ]
  },
  {
   "cell_type": "code",
   "execution_count": 134,
   "metadata": {},
   "outputs": [
    {
     "data": {
      "text/plain": [
       "1066"
      ]
     },
     "execution_count": 134,
     "metadata": {},
     "output_type": "execute_result"
    }
   ],
   "source": [
    "df[\"Nickname\"].isnull().sum()"
   ]
  },
  {
   "cell_type": "code",
   "execution_count": 135,
   "metadata": {},
   "outputs": [
    {
     "data": {
      "text/html": [
       "<div>\n",
       "<style scoped>\n",
       "    .dataframe tbody tr th:only-of-type {\n",
       "        vertical-align: middle;\n",
       "    }\n",
       "\n",
       "    .dataframe tbody tr th {\n",
       "        vertical-align: top;\n",
       "    }\n",
       "\n",
       "    .dataframe thead th {\n",
       "        text-align: right;\n",
       "    }\n",
       "</style>\n",
       "<table border=\"1\" class=\"dataframe\">\n",
       "  <thead>\n",
       "    <tr style=\"text-align: right;\">\n",
       "      <th></th>\n",
       "      <th>Name</th>\n",
       "      <th>Country</th>\n",
       "      <th>Proven victims</th>\n",
       "      <th>Possible victims</th>\n",
       "      <th>Notes</th>\n",
       "      <th>Start year</th>\n",
       "      <th>End year</th>\n",
       "      <th>Nickname</th>\n",
       "    </tr>\n",
       "  </thead>\n",
       "  <tbody>\n",
       "    <tr>\n",
       "      <th>0</th>\n",
       "      <td>Luis Garavito</td>\n",
       "      <td>Colombia</td>\n",
       "      <td>193</td>\n",
       "      <td>300+</td>\n",
       "      <td>Child-murderer, torture-killer, and rapist known as \"La Bestia\" (\"The Beast\"). Garavito confessed to killing 140 boys between six and sixteen years old, from October 1992 to April 1999 in Colombia and neighboring countries. He is suspected of murdering over 300 victims, mostly street children. Garavito was originally sentenced to 1,853 years in prison, but this was later reduced to 22 years, after he led police to many of the bodies of his victims. He is scheduled to become eligible for parole in 2023.</td>\n",
       "      <td>1992</td>\n",
       "      <td>1999</td>\n",
       "      <td>La Bestia</td>\n",
       "    </tr>\n",
       "    <tr>\n",
       "      <th>1</th>\n",
       "      <td>Pedro López</td>\n",
       "      <td>Colombia</td>\n",
       "      <td>110</td>\n",
       "      <td>300+</td>\n",
       "      <td>Child-murderer and rapist, known as \"The Monster of the Andes\". López targeted young girls, between the ages of eight and twelve. Arrested in 1980 and convicted in 1983 of killing three young girls, but claimed to have killed hundreds. Despite being believed to be one of the most prolific serial killers of the twentieth century, he was released in the late 1990s.</td>\n",
       "      <td>1969</td>\n",
       "      <td>1980</td>\n",
       "      <td>The Monster of the Andes</td>\n",
       "    </tr>\n",
       "    <tr>\n",
       "      <th>2</th>\n",
       "      <td>Javed Iqbal</td>\n",
       "      <td>Pakistan</td>\n",
       "      <td>100</td>\n",
       "      <td>100</td>\n",
       "      <td>Child-murderer and rapist, known as \"Kukri\", Iqbal murdered exactly 100 street children by strangling them and covering up his crimes by dissolving the bodies with acid. He was arrested in December 1999 after sending a letter to a newspaper, and was set to be executed in the manner described by the judge who stated, \"You will be strangled to death in front of the parents whose children you killed, Your body will then be cut into 100 pieces and put in acid, the same way you killed the children.\" However, he died in custody before he could be executed.</td>\n",
       "      <td>1998</td>\n",
       "      <td>1999</td>\n",
       "      <td>Kukri</td>\n",
       "    </tr>\n",
       "    <tr>\n",
       "      <th>3</th>\n",
       "      <td>Mikhail Popkov</td>\n",
       "      <td>Russia</td>\n",
       "      <td>78</td>\n",
       "      <td>83+</td>\n",
       "      <td>Serial rapist-killer nicknamed \"The Werewolf\", who was active for two decades in Angarsk, Irkutsk and Vladivostok. After being convicted of 22 murders in 2015, he confessed to an additional 59 murders, of which he was convicted of 56 in 2018. In July 2020, Popkov confessed to more killings, bringing the total number of admitted victims to 83. He was sentenced to life.</td>\n",
       "      <td>1992</td>\n",
       "      <td>2010</td>\n",
       "      <td>The Werewolf</td>\n",
       "    </tr>\n",
       "    <tr>\n",
       "      <th>4</th>\n",
       "      <td>Daniel Camargo Barbosa</td>\n",
       "      <td>Colombia</td>\n",
       "      <td>72</td>\n",
       "      <td>180</td>\n",
       "      <td>Child and woman murderer, believed to have possibly raped and killed over 150 victims, primarily targeting female children, as they were more likely to be virgins. Confessed to killing 72 victims. He strangled young girls in Colombia and was arrested, but he escaped from prison, and started killing in Ecuador. He was rearrested in 1986, and was allegedly incarcerated in the same Ecuadorian prison as 300+ serial killer Pedro López.[citation needed] Camargo was killed in jail by the nephew of one of his victims.</td>\n",
       "      <td>1974</td>\n",
       "      <td>1986</td>\n",
       "      <td>NaN</td>\n",
       "    </tr>\n",
       "  </tbody>\n",
       "</table>\n",
       "</div>"
      ],
      "text/plain": [
       "                     Name   Country Proven victims Possible victims  \\\n",
       "0           Luis Garavito  Colombia            193             300+   \n",
       "1             Pedro López  Colombia            110             300+   \n",
       "2             Javed Iqbal  Pakistan            100              100   \n",
       "3          Mikhail Popkov    Russia             78              83+   \n",
       "4  Daniel Camargo Barbosa  Colombia             72              180   \n",
       "\n",
       "                                                                                                                                                                                                                                                                                                                                                                                                                                                                                                                                                                          Notes  \\\n",
       "0                                                   Child-murderer, torture-killer, and rapist known as \"La Bestia\" (\"The Beast\"). Garavito confessed to killing 140 boys between six and sixteen years old, from October 1992 to April 1999 in Colombia and neighboring countries. He is suspected of murdering over 300 victims, mostly street children. Garavito was originally sentenced to 1,853 years in prison, but this was later reduced to 22 years, after he led police to many of the bodies of his victims. He is scheduled to become eligible for parole in 2023.   \n",
       "1                                                                                                                                                                                                 Child-murderer and rapist, known as \"The Monster of the Andes\". López targeted young girls, between the ages of eight and twelve. Arrested in 1980 and convicted in 1983 of killing three young girls, but claimed to have killed hundreds. Despite being believed to be one of the most prolific serial killers of the twentieth century, he was released in the late 1990s.   \n",
       "2  Child-murderer and rapist, known as \"Kukri\", Iqbal murdered exactly 100 street children by strangling them and covering up his crimes by dissolving the bodies with acid. He was arrested in December 1999 after sending a letter to a newspaper, and was set to be executed in the manner described by the judge who stated, \"You will be strangled to death in front of the parents whose children you killed, Your body will then be cut into 100 pieces and put in acid, the same way you killed the children.\" However, he died in custody before he could be executed.   \n",
       "3                                                                                                                                                                                            Serial rapist-killer nicknamed \"The Werewolf\", who was active for two decades in Angarsk, Irkutsk and Vladivostok. After being convicted of 22 murders in 2015, he confessed to an additional 59 murders, of which he was convicted of 56 in 2018. In July 2020, Popkov confessed to more killings, bringing the total number of admitted victims to 83. He was sentenced to life.   \n",
       "4                                           Child and woman murderer, believed to have possibly raped and killed over 150 victims, primarily targeting female children, as they were more likely to be virgins. Confessed to killing 72 victims. He strangled young girls in Colombia and was arrested, but he escaped from prison, and started killing in Ecuador. He was rearrested in 1986, and was allegedly incarcerated in the same Ecuadorian prison as 300+ serial killer Pedro López.[citation needed] Camargo was killed in jail by the nephew of one of his victims.   \n",
       "\n",
       "  Start year End year                  Nickname  \n",
       "0       1992     1999                 La Bestia  \n",
       "1       1969     1980  The Monster of the Andes  \n",
       "2       1998     1999                     Kukri  \n",
       "3       1992     2010              The Werewolf  \n",
       "4       1974     1986                       NaN  "
      ]
     },
     "execution_count": 135,
     "metadata": {},
     "output_type": "execute_result"
    }
   ],
   "source": [
    "df.head()"
   ]
  },
  {
   "cell_type": "code",
   "execution_count": 140,
   "metadata": {},
   "outputs": [],
   "source": [
    "df.to_csv(\"serial_killers_clean.csv\")"
   ]
  }
 ],
 "metadata": {
  "kernelspec": {
   "display_name": "base",
   "language": "python",
   "name": "python3"
  },
  "language_info": {
   "codemirror_mode": {
    "name": "ipython",
    "version": 3
   },
   "file_extension": ".py",
   "mimetype": "text/x-python",
   "name": "python",
   "nbconvert_exporter": "python",
   "pygments_lexer": "ipython3",
   "version": "3.12.4"
  }
 },
 "nbformat": 4,
 "nbformat_minor": 2
}
