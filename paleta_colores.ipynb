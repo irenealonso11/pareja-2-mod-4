{
 "cells": [
  {
   "cell_type": "code",
   "execution_count": 1,
   "metadata": {},
   "outputs": [],
   "source": [
    "import json"
   ]
  },
  {
   "cell_type": "code",
   "execution_count": null,
   "metadata": {},
   "outputs": [],
   "source": [
    "theme = {\n",
    "    \"name\": \"Serie Asesinos\",\n",
    "    \"dataColors\": [\n",
    "        \"#B22222\",   # Rojo oscuro\n",
    "        \"#000000\",   # Negro\n",
    "        \"#8B0000\",   # Rojo sangre\n",
    "        \"#2F4F4F\",   # Gris oscuro\n",
    "        \"#A9A9A9\",   # Gris claro\n",
    "        \"#C0C0C0\",   # Plata metálica\n",
    "        \"#4682B4\",   # Azul oscuro\n",
    "        \"#B0C4DE\",   # Gris azulado\n",
    "        \"#FFDB58\",   # Amarillo mostaza\n",
    "        \"#FF8C00\"    # Naranja oscuro\n",
    "    ],\n",
    "    \"background\": \"#000000\",  # Fondo negro\n",
    "    \"foreground\": \"#FFFFFF\",  # Texto blanco\n",
    "    \"tableAccent\": \"#B22222\"  # Color de acento en las tablas\n",
    "}\n",
    "\n",
    "# Guardar el archivo JSON\n",
    "with open('tema_asesinos_serie.json', 'w') as json_file:\n",
    "    json.dump(theme, json_file, indent=4)\n",
    "\n",
    "print(\"Archivo JSON guardado exitosamente.\")"
   ]
  }
 ],
 "metadata": {
  "kernelspec": {
   "display_name": "Python 3",
   "language": "python",
   "name": "python3"
  },
  "language_info": {
   "codemirror_mode": {
    "name": "ipython",
    "version": 3
   },
   "file_extension": ".py",
   "mimetype": "text/x-python",
   "name": "python",
   "nbconvert_exporter": "python",
   "pygments_lexer": "ipython3",
   "version": "3.12.4"
  }
 },
 "nbformat": 4,
 "nbformat_minor": 2
}
